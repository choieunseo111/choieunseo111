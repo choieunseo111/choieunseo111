{
 "cells": [
  {
   "cell_type": "markdown",
   "metadata": {},
   "source": [
    "202004240 최은서 202084063 최지원"
   ]
  },
  {
   "cell_type": "code",
   "execution_count": 5,
   "metadata": {},
   "outputs": [],
   "source": [
    "import os\n",
    "import pandas as pd\n",
    "import numpy as np\n",
    "import matplotlib.pyplot as plt\n",
    "import seaborn as sns"
   ]
  },
  {
   "cell_type": "code",
   "execution_count": 169,
   "metadata": {},
   "outputs": [
    {
     "data": {
      "text/html": [
       "<div>\n",
       "<style scoped>\n",
       "    .dataframe tbody tr th:only-of-type {\n",
       "        vertical-align: middle;\n",
       "    }\n",
       "\n",
       "    .dataframe tbody tr th {\n",
       "        vertical-align: top;\n",
       "    }\n",
       "\n",
       "    .dataframe thead th {\n",
       "        text-align: right;\n",
       "    }\n",
       "</style>\n",
       "<table border=\"1\" class=\"dataframe\">\n",
       "  <thead>\n",
       "    <tr style=\"text-align: right;\">\n",
       "      <th></th>\n",
       "      <th>시군명</th>\n",
       "      <th>읍면동명</th>\n",
       "      <th>등록동물수(마리)</th>\n",
       "      <th>(등록주체)시군구등록</th>\n",
       "      <th>(등록주체)대행업체등록</th>\n",
       "      <th>(등록주체)기타</th>\n",
       "      <th>(RFID종류)내장형</th>\n",
       "      <th>(RFID종류)외장형</th>\n",
       "      <th>(RFID종류)인식표</th>\n",
       "      <th>등록품종수</th>\n",
       "      <th>등록소유자수</th>\n",
       "      <th>동물소유자당등록동물수</th>\n",
       "      <th>해당동의등록대행업체수</th>\n",
       "      <th>데이터기준일자</th>\n",
       "    </tr>\n",
       "  </thead>\n",
       "  <tbody>\n",
       "    <tr>\n",
       "      <th>0</th>\n",
       "      <td>가평군</td>\n",
       "      <td>가평읍</td>\n",
       "      <td>1508</td>\n",
       "      <td>NaN</td>\n",
       "      <td>NaN</td>\n",
       "      <td>NaN</td>\n",
       "      <td>984</td>\n",
       "      <td>462</td>\n",
       "      <td>62</td>\n",
       "      <td>NaN</td>\n",
       "      <td>1011</td>\n",
       "      <td>NaN</td>\n",
       "      <td>1.0</td>\n",
       "      <td>2022-12-31</td>\n",
       "    </tr>\n",
       "    <tr>\n",
       "      <th>1</th>\n",
       "      <td>가평군</td>\n",
       "      <td>북면</td>\n",
       "      <td>455</td>\n",
       "      <td>NaN</td>\n",
       "      <td>NaN</td>\n",
       "      <td>NaN</td>\n",
       "      <td>288</td>\n",
       "      <td>134</td>\n",
       "      <td>33</td>\n",
       "      <td>NaN</td>\n",
       "      <td>278</td>\n",
       "      <td>NaN</td>\n",
       "      <td>0.0</td>\n",
       "      <td>2022-12-31</td>\n",
       "    </tr>\n",
       "    <tr>\n",
       "      <th>2</th>\n",
       "      <td>가평군</td>\n",
       "      <td>상면</td>\n",
       "      <td>778</td>\n",
       "      <td>NaN</td>\n",
       "      <td>NaN</td>\n",
       "      <td>NaN</td>\n",
       "      <td>489</td>\n",
       "      <td>239</td>\n",
       "      <td>50</td>\n",
       "      <td>NaN</td>\n",
       "      <td>465</td>\n",
       "      <td>NaN</td>\n",
       "      <td>0.0</td>\n",
       "      <td>2022-12-31</td>\n",
       "    </tr>\n",
       "    <tr>\n",
       "      <th>3</th>\n",
       "      <td>가평군</td>\n",
       "      <td>설악면</td>\n",
       "      <td>1589</td>\n",
       "      <td>NaN</td>\n",
       "      <td>NaN</td>\n",
       "      <td>NaN</td>\n",
       "      <td>746</td>\n",
       "      <td>774</td>\n",
       "      <td>69</td>\n",
       "      <td>NaN</td>\n",
       "      <td>907</td>\n",
       "      <td>NaN</td>\n",
       "      <td>1.0</td>\n",
       "      <td>2022-12-31</td>\n",
       "    </tr>\n",
       "    <tr>\n",
       "      <th>4</th>\n",
       "      <td>가평군</td>\n",
       "      <td>조종면</td>\n",
       "      <td>768</td>\n",
       "      <td>NaN</td>\n",
       "      <td>NaN</td>\n",
       "      <td>NaN</td>\n",
       "      <td>480</td>\n",
       "      <td>243</td>\n",
       "      <td>45</td>\n",
       "      <td>NaN</td>\n",
       "      <td>481</td>\n",
       "      <td>NaN</td>\n",
       "      <td>1.0</td>\n",
       "      <td>2022-12-31</td>\n",
       "    </tr>\n",
       "  </tbody>\n",
       "</table>\n",
       "</div>"
      ],
      "text/plain": [
       "   시군명 읍면동명  등록동물수(마리)  (등록주체)시군구등록  (등록주체)대행업체등록  (등록주체)기타  (RFID종류)내장형  \\\n",
       "0  가평군  가평읍       1508          NaN           NaN       NaN          984   \n",
       "1  가평군   북면        455          NaN           NaN       NaN          288   \n",
       "2  가평군   상면        778          NaN           NaN       NaN          489   \n",
       "3  가평군  설악면       1589          NaN           NaN       NaN          746   \n",
       "4  가평군  조종면        768          NaN           NaN       NaN          480   \n",
       "\n",
       "   (RFID종류)외장형  (RFID종류)인식표  등록품종수  등록소유자수  동물소유자당등록동물수  해당동의등록대행업체수  \\\n",
       "0          462           62    NaN    1011          NaN          1.0   \n",
       "1          134           33    NaN     278          NaN          0.0   \n",
       "2          239           50    NaN     465          NaN          0.0   \n",
       "3          774           69    NaN     907          NaN          1.0   \n",
       "4          243           45    NaN     481          NaN          1.0   \n",
       "\n",
       "      데이터기준일자  \n",
       "0  2022-12-31  \n",
       "1  2022-12-31  \n",
       "2  2022-12-31  \n",
       "3  2022-12-31  \n",
       "4  2022-12-31  "
      ]
     },
     "execution_count": 169,
     "metadata": {},
     "output_type": "execute_result"
    }
   ],
   "source": [
    "경기도반려동물등록현황 = pd.read_csv(\"C:/Users/chldm/Downloads/반려동물등록현황.csv\", encoding = \"euc-kr\" )\n",
    "경기도반려동물등록현황.head()"
   ]
  },
  {
   "cell_type": "markdown",
   "metadata": {},
   "source": [
    "각 컬럼이 무슨 의미인지!\n",
    "\n"
   ]
  },
  {
   "cell_type": "markdown",
   "metadata": {},
   "source": [
    "DF의 속성을 사용해 인덱스, 열, 데이터를 각자의 변수의 할당한다. "
   ]
  },
  {
   "cell_type": "code",
   "execution_count": 170,
   "metadata": {},
   "outputs": [
    {
     "data": {
      "text/plain": [
       "Index(['시군명', '읍면동명', '등록동물수(마리)', '(등록주체)시군구등록', '(등록주체)대행업체등록', '(등록주체)기타',\n",
       "       '(RFID종류)내장형', '(RFID종류)외장형', '(RFID종류)인식표', '등록품종수', '등록소유자수',\n",
       "       '동물소유자당등록동물수', '해당동의등록대행업체수', '데이터기준일자'],\n",
       "      dtype='object')"
      ]
     },
     "execution_count": 170,
     "metadata": {},
     "output_type": "execute_result"
    }
   ],
   "source": [
    "경기도반려동물등록현황.columns #각 컬럼의 값을 표시해보는 중"
   ]
  },
  {
   "cell_type": "code",
   "execution_count": 171,
   "metadata": {},
   "outputs": [
    {
     "data": {
      "text/plain": [
       "시군명              object\n",
       "읍면동명             object\n",
       "등록동물수(마리)         int64\n",
       "(등록주체)시군구등록     float64\n",
       "(등록주체)대행업체등록    float64\n",
       "(등록주체)기타        float64\n",
       "(RFID종류)내장형       int64\n",
       "(RFID종류)외장형       int64\n",
       "(RFID종류)인식표       int64\n",
       "등록품종수           float64\n",
       "등록소유자수            int64\n",
       "동물소유자당등록동물수     float64\n",
       "해당동의등록대행업체수     float64\n",
       "데이터기준일자          object\n",
       "dtype: object"
      ]
     },
     "execution_count": 171,
     "metadata": {},
     "output_type": "execute_result"
    }
   ],
   "source": [
    "경기도반려동물등록현황.dtypes #.dtypes속성을 사용하면 각 열의 이름과 데이터 형식을 나란히 표시할 수 있음."
   ]
  },
  {
   "cell_type": "code",
   "execution_count": 172,
   "metadata": {},
   "outputs": [
    {
     "data": {
      "text/plain": [
       "float64    6\n",
       "int64      5\n",
       "object     3\n",
       "dtype: int64"
      ]
     },
     "execution_count": 172,
     "metadata": {},
     "output_type": "execute_result"
    }
   ],
   "source": [
    "경기도반려동물등록현황.dtypes.value_counts() #.value_counts메서드를 사용하면 각 데이터 형식의 개수를 반환함."
   ]
  },
  {
   "cell_type": "code",
   "execution_count": 173,
   "metadata": {},
   "outputs": [
    {
     "name": "stdout",
     "output_type": "stream",
     "text": [
      "<class 'pandas.core.frame.DataFrame'>\n",
      "RangeIndex: 713 entries, 0 to 712\n",
      "Data columns (total 14 columns):\n",
      " #   Column        Non-Null Count  Dtype  \n",
      "---  ------        --------------  -----  \n",
      " 0   시군명           713 non-null    object \n",
      " 1   읍면동명          712 non-null    object \n",
      " 2   등록동물수(마리)     713 non-null    int64  \n",
      " 3   (등록주체)시군구등록   707 non-null    float64\n",
      " 4   (등록주체)대행업체등록  698 non-null    float64\n",
      " 5   (등록주체)기타      689 non-null    float64\n",
      " 6   (RFID종류)내장형   713 non-null    int64  \n",
      " 7   (RFID종류)외장형   713 non-null    int64  \n",
      " 8   (RFID종류)인식표   713 non-null    int64  \n",
      " 9   등록품종수         698 non-null    float64\n",
      " 10  등록소유자수        713 non-null    int64  \n",
      " 11  동물소유자당등록동물수   707 non-null    float64\n",
      " 12  해당동의등록대행업체수   406 non-null    float64\n",
      " 13  데이터기준일자       713 non-null    object \n",
      "dtypes: float64(6), int64(5), object(3)\n",
      "memory usage: 78.1+ KB\n"
     ]
    }
   ],
   "source": [
    "경기도반려동물등록현황.info() #.info메서드를 사용하면 null값이 아닌 값의 개수와 함께 데이터 형식 정보를 출력한다"
   ]
  },
  {
   "cell_type": "code",
   "execution_count": 174,
   "metadata": {},
   "outputs": [
    {
     "data": {
      "text/plain": [
       "dtype('O')"
      ]
     },
     "execution_count": 174,
     "metadata": {},
     "output_type": "execute_result"
    }
   ],
   "source": [
    "pd.Series([\"Paul\", np.nan, \"George\"]).dtype # dtypes속성을 사용해 pandas Series로 반환가능"
   ]
  },
  {
   "cell_type": "code",
   "execution_count": 175,
   "metadata": {},
   "outputs": [
    {
     "data": {
      "text/plain": [
       "dtype('float64')"
      ]
     },
     "execution_count": 175,
     "metadata": {},
     "output_type": "execute_result"
    }
   ],
   "source": [
    "pd.Series([1, np.nan, 3]).dtype # dtypes속성을 사용해 pandas Series로 반환가능"
   ]
  },
  {
   "cell_type": "code",
   "execution_count": 176,
   "metadata": {},
   "outputs": [
    {
     "data": {
      "text/plain": [
       "0      가평읍\n",
       "1       북면\n",
       "2       상면\n",
       "3      설악면\n",
       "4      조종면\n",
       "      ... \n",
       "708    청계동\n",
       "709    팔탄면\n",
       "710    향남읍\n",
       "711    활초동\n",
       "712    황계동\n",
       "Name: 읍면동명, Length: 713, dtype: object"
      ]
     },
     "execution_count": 176,
     "metadata": {},
     "output_type": "execute_result"
    }
   ],
   "source": [
    "경기도반려동물등록현황.loc[:, \"읍면동명\"] # 컬럼(Make)이름을 정확하게 명시할 때"
   ]
  },
  {
   "cell_type": "code",
   "execution_count": 177,
   "metadata": {},
   "outputs": [
    {
     "data": {
      "text/plain": [
       "0      가평읍\n",
       "1       북면\n",
       "2       상면\n",
       "3      설악면\n",
       "4      조종면\n",
       "      ... \n",
       "708    청계동\n",
       "709    팔탄면\n",
       "710    향남읍\n",
       "711    활초동\n",
       "712    황계동\n",
       "Name: 읍면동명, Length: 713, dtype: object"
      ]
     },
     "execution_count": 177,
     "metadata": {},
     "output_type": "execute_result"
    }
   ],
   "source": [
    "경기도반려동물등록현황.iloc[:, 1] # 컬럼 이름 대신 번호"
   ]
  },
  {
   "cell_type": "code",
   "execution_count": 178,
   "metadata": {},
   "outputs": [
    {
     "data": {
      "text/plain": [
       "RangeIndex(start=0, stop=713, step=1)"
      ]
     },
     "execution_count": 178,
     "metadata": {},
     "output_type": "execute_result"
    }
   ],
   "source": [
    "#Series의 인덱스, 형식, 길이, 이름도 같이 볼 수 있음(Make컬럼을 사용)\n",
    "경기도반려동물등록현황[\"읍면동명\"].index"
   ]
  },
  {
   "cell_type": "code",
   "execution_count": 179,
   "metadata": {},
   "outputs": [
    {
     "data": {
      "text/plain": [
       "dtype('O')"
      ]
     },
     "execution_count": 179,
     "metadata": {},
     "output_type": "execute_result"
    }
   ],
   "source": [
    "경기도반려동물등록현황[\"읍면동명\"].dtype"
   ]
  },
  {
   "cell_type": "code",
   "execution_count": 180,
   "metadata": {},
   "outputs": [
    {
     "data": {
      "text/plain": [
       "713"
      ]
     },
     "execution_count": 180,
     "metadata": {},
     "output_type": "execute_result"
    }
   ],
   "source": [
    "경기도반려동물등록현황[\"읍면동명\"].size"
   ]
  },
  {
   "cell_type": "code",
   "execution_count": 181,
   "metadata": {},
   "outputs": [
    {
     "data": {
      "text/plain": [
       "'(RFID종류)내장형'"
      ]
     },
     "execution_count": 181,
     "metadata": {},
     "output_type": "execute_result"
    }
   ],
   "source": [
    "경기도반려동물등록현황.iloc[:, 6].name"
   ]
  },
  {
   "cell_type": "code",
   "execution_count": 182,
   "metadata": {},
   "outputs": [
    {
     "data": {
      "text/plain": [
       "dtype('O')"
      ]
     },
     "execution_count": 182,
     "metadata": {},
     "output_type": "execute_result"
    }
   ],
   "source": [
    "경기도반려동물등록현황[\"읍면동명\"].dtype"
   ]
  },
  {
   "cell_type": "code",
   "execution_count": 183,
   "metadata": {},
   "outputs": [
    {
     "data": {
      "text/plain": [
       "pandas.core.series.Series"
      ]
     },
     "execution_count": 183,
     "metadata": {},
     "output_type": "execute_result"
    }
   ],
   "source": [
    "#출력이 Series가 맞는지 확인해보면\n",
    "type(경기도반려동물등록현황[\"읍면동명\"])"
   ]
  },
  {
   "cell_type": "markdown",
   "metadata": {},
   "source": [
    "이번엔 unique() 메서드"
   ]
  },
  {
   "cell_type": "code",
   "execution_count": 184,
   "metadata": {},
   "outputs": [
    {
     "data": {
      "text/plain": [
       "array(['가평읍', '북면', '상면', '설악면', '조종면', '청평면', '가좌동', '강매동', '고양동', '관산동',\n",
       "       '구산동', '내곡동', '내유동', '대자동', '대장동', '대화동', '덕은동', '덕이동', '도내동',\n",
       "       '동산동', '마두동', '문봉동', '백석동', '법곳동', '벽제동', '북한동', '사리현동', '산황동',\n",
       "       '삼송동', '선유동', '설문동', '성사동', '성석동', '식사동', '신원동', '신평동', '오금동',\n",
       "       '용두동', '원당동', '원흥동', '일산동', '장항동', '정발산동', '주교동', '주엽동', '중산동',\n",
       "       '지영동', '지축동', '탄현동', '토당동', '풍동', '행신동', '행주내동', '행주외동', '향동동',\n",
       "       '현천동', '화전동', '화정동', '효자동', '갈현동', '과천동', '관문동', '막계동', '문원동',\n",
       "       '별양동', '부림동', '원문동', '주암동', '중앙동', '가학동', '광명동', '노온사동', '소하동',\n",
       "       '옥길동', '일직동', '철산동', '하안동', '경안동', '곤지암읍', '남종면', '남한산성면', '도척면',\n",
       "       '목동', '목현동', '삼동', '송정동', '실촌읍', '쌍령동', '역동', '오포읍', '장지동', '중대동',\n",
       "       '중부면', '직동', '초월읍', '탄벌동', '태전동', '퇴촌면', '회덕동', '갈매동', '교문동',\n",
       "       '사노동', '수택동', '아천동', '인창동', '토평동', '금정동', '당동', '당정동', '대야미동',\n",
       "       '도마교동', '둔대동', '부곡동', '산본동', '속달동', '감정동', '걸포동', '고촌읍', '구래동',\n",
       "       '대곶면', '마산동', '북변동', '사우동', '양촌읍', '운양동', '월곶면', '장기동', '통진읍',\n",
       "       '풍무동', '하성면', '가운동', '금곡동', '다산동', '도농동', '별내동', '별내면', '삼패동',\n",
       "       '수동면', '수석동', '오남읍', '와부읍', '이패동', '일패동', '조안면', '지금동', '진건읍',\n",
       "       '진접읍', '퇴계원면', '퇴계원읍', '평내동', '호평동', '화도읍', '계수동', '고강동', '괴안동',\n",
       "       '내동', '도당동', '범박동', '삼정동', '상동', '소사동', '소사본동', '송내동', '심곡동',\n",
       "       '심곡본동', '약대동', '여월동', '역곡동', '오정동', '원미동', '원종동', '작동', '중동',\n",
       "       '춘의동', '합계', '고등동', '구미동', '궁내동', '금광동', '금토동', '단대동', '도촌동',\n",
       "       '동원동', '둔전동', '백현동', '복정동', '분당동', '사송동', '산성동', '삼평동', '상대원동',\n",
       "       '상적동', '서현동', '석운동', '성남동', '성남시 수정구', '수내동', '수진동', '시흥동', '신촌동',\n",
       "       '신흥동', '야탑동', '양지동', '여수동', '오야동', '운중동', '율동', '은행동', '이매동',\n",
       "       '정자동', '창곡동', '태평동', '판교동', '하대원동', '하산운동', '고색동', '곡반정동', '교동',\n",
       "       '구운동', '구천동', '권선동', '남수동', '남창동', '당수동', '망포동', '매교동', '매산로1가',\n",
       "       '매산로2가', '매산로3가', '매탄동', '매향동', '북수동', '상광교동', '서둔동', '세류동', '송죽동',\n",
       "       '신동', '신풍동', '연무동', '영동', '영통동', '영화동', '오목천동', '우만동', '원천동',\n",
       "       '율전동', '이목동', '이의동', '인계동', '입북동', '장안동', '조원동', '지동', '천천동', '탑동',\n",
       "       '파장동', '팔달로1가', '팔달로2가', '팔달로3가', '평동', '평리동', '하광교동', '하동',\n",
       "       '호매실동', '화서동', '거모동', '과림동', '광석동', '군자동', '금이동', '논곡동', '능곡동',\n",
       "       '대야동', '도창동', '매화동', '목감동', '무지내동', '물왕동', '미산동', '방산동', '산현동',\n",
       "       '신천동', '안현동', '월곶동', '장곡동', '장현동', '정왕동', '조남동', '죽율동', '포동',\n",
       "       '하상동', '하중동', '건건동', '고잔동', '대부남동', '대부동동', '대부북동', '목내동', '본오동',\n",
       "       '사동', '사사동', '선감동', '선부동', '성곡동', '성포동', '수암동', '신길동', '양상동', '와동',\n",
       "       '원곡동', '원시동', '월피동', '이동', '일동', '장상동', '장하동', '초지동', '팔곡이동',\n",
       "       '팔곡일동', '풍도동', '가사동', '가현동', '계동', '고삼면', '공도읍', '구포동', '금광면',\n",
       "       '금산동', '금석동', '낙원동', '당왕동', '대덕면', '대천동', '도기동', '동본동', '명륜동',\n",
       "       '미양면', '발화동', '보개면', '봉남동', '봉산동', '사곡동', '삼죽면', '서운면', '서인동',\n",
       "       '석정동', '숭인동', '신건지동', '신모산동', '신소현동', '아양동', '양성면', '연지동', '옥산동',\n",
       "       '옥천동', '원곡면', '인지동', '일죽면', '죽산면', '중리동', '창전동', '현수동', '관양동',\n",
       "       '박달동', '비산동', '석수동', '안양동', '평촌동', '호계동', '고암동', '고읍동', '광사동',\n",
       "       '광적면', '남면', '남방동', '덕계동', '덕정동', '마전동', '만송동', '백석읍', '봉양동',\n",
       "       '산북동', '삼숭동', '어둔동', '옥정동', '유양동', '율정동', '은현면', '장흥면', '회암동',\n",
       "       '회정동', '강상면', '강하면', '개군면', '단월면', '서종면', '양동면', '양서면', '양평읍',\n",
       "       '옥천면', '용문면', '지평면', '청운면', '가남읍', '가업동', '강천면', '금사면', '능서면',\n",
       "       '능현동', '단현동', '대신면', '매룡동', '멱곡동', '북내면', '산북면', '삼교동', '상거동',\n",
       "       '신진동', '연라동', '연양동', '오학동', '월송동', '점동면', '점봉동', '창동', '천송동',\n",
       "       '하거동', '현암동', '홍문동', '흥천면', '군남면', '미산면', '백학면', '신서면', '연천읍',\n",
       "       '왕징면', '장남면', '전곡읍', '중면', '청산면', '고기동', '고림동', '고매동', '공세동',\n",
       "       '구갈동', '김량장동', '남동', '남사읍', '농서동', '동백동', '동천동', '마북동', '마평동',\n",
       "       '모현읍', '백암면', '보라동', '보정동', '삼가동', '상갈동', '상하동', '상현동', '서천동',\n",
       "       '성복동', '신갈동', '신봉동', '양지면', '언남동', '역북동', '영덕동', '운학동', '원삼면',\n",
       "       '유방동', '이동읍', '죽전동', '지곡동', '청덕동', '포곡읍', '풍덕천동', '하갈동', '해곡동',\n",
       "       '호동', '고천동', '내손동', '오전동', '왕곡동', '월암동', '청계동', '초평동', '포일동',\n",
       "       '학의동', nan, '갈산동', '고담동', '관고동', '단월동', '대월면', '대포동', '마장면', '모가면',\n",
       "       '백사면', '부발읍', '사음동', '설성면', '신둔면', '안흥동', '율면', '율현동', '장록동',\n",
       "       '장호원읍', '증일동', '증포동', '진리동', '호법면', '검산동', '광탄면', '교하동', '교하읍',\n",
       "       '군내면', '금능동', '금릉동', '금촌동', '다율동', '당하동', '동패동', '맥금동', '목동동',\n",
       "       '문발동', '문산읍', '법원읍', '산남동', '상지석동', '서패동', '송촌동', '아동동', '야당동',\n",
       "       '야동동', '연다산동', '오도동', '와동동', '월롱면', '적성면', '조리읍', '진동면', '탄현면',\n",
       "       '파주읍', '파평면', '하지석동', '가재동', '고덕면', '군문동', '도일동', '독곡동', '동삭동',\n",
       "       '모곡동', '비전동', '서정동', '서탄면', '세교동', '신대동', '신장동', '안중읍', '오성면',\n",
       "       '용이동', '월곡동', '유천동', '이충동', '장당동', '죽백동', '지산동', '지제동', '진위면',\n",
       "       '청룡동', '청북면', '청북읍', '칠괴동', '칠원동', '통복동', '팽성읍', '평택동', '포승읍',\n",
       "       '합정동', '현덕면', '가산면', '관인면', '내촌면', '동교동', '선단동', '설운동', '소흘읍',\n",
       "       '신북면', '신읍동', '어룡동', '영북면', '영중면', '이동면', '일동면', '자작동', '창수면',\n",
       "       '화현면', '감북동', '감이동', '감일동', '광암동', '교산동', '덕풍동', '망월동', '미사동',\n",
       "       '배알미동', '상사창동', '상산곡동', '선동', '창우동', '천현동', '초이동', '초일동', '춘궁동',\n",
       "       '풍산동', '하사창동', '하산곡동', '학암동', '항동', '기산동', '기안동', '남양동', '남양읍',\n",
       "       '능동', '동탄면', '마도면', '매송면', '무송동', '문호동', '반송동', '반월동', '반정동',\n",
       "       '방교동', '배양동', '병점동', '봉담읍', '북양동', '비봉면', '산척동', '새솔동', '서신면',\n",
       "       '석우동', '송동', '송림동', '송산동', '송산면', '수화동', '신남동', '신외동', '안녕동',\n",
       "       '안석동', '양감면', '영천동', '오산동', '우정읍', '장덕동', '장안면', '장전동', '정남면',\n",
       "       '진안동', '팔탄면', '향남읍', '활초동', '황계동'], dtype=object)"
      ]
     },
     "execution_count": 184,
     "metadata": {},
     "output_type": "execute_result"
    }
   ],
   "source": [
    "경기도반려동물등록현황[\"읍면동명\"].unique()"
   ]
  },
  {
   "cell_type": "code",
   "execution_count": 185,
   "metadata": {},
   "outputs": [
    {
     "data": {
      "text/plain": [
       "0      <class 'str'>\n",
       "1      <class 'str'>\n",
       "2      <class 'str'>\n",
       "3      <class 'str'>\n",
       "4      <class 'str'>\n",
       "           ...      \n",
       "708    <class 'str'>\n",
       "709    <class 'str'>\n",
       "710    <class 'str'>\n",
       "711    <class 'str'>\n",
       "712    <class 'str'>\n",
       "Name: 읍면동명, Length: 713, dtype: object"
      ]
     },
     "execution_count": 185,
     "metadata": {},
     "output_type": "execute_result"
    }
   ],
   "source": [
    "경기도반려동물등록현황[\"읍면동명\"].apply(type)"
   ]
  },
  {
   "cell_type": "code",
   "execution_count": 186,
   "metadata": {},
   "outputs": [
    {
     "data": {
      "text/plain": [
       "array([<class 'str'>, <class 'float'>], dtype=object)"
      ]
     },
     "execution_count": 186,
     "metadata": {},
     "output_type": "execute_result"
    }
   ],
   "source": [
    "경기도반려동물등록현황[\"읍면동명\"].apply(type).unique()"
   ]
  },
  {
   "cell_type": "code",
   "execution_count": 187,
   "metadata": {},
   "outputs": [
    {
     "data": {
      "text/plain": [
       "0      <class 'str'>\n",
       "1    <class 'float'>\n",
       "2      <class 'str'>\n",
       "dtype: object"
      ]
     },
     "execution_count": 187,
     "metadata": {},
     "output_type": "execute_result"
    }
   ],
   "source": [
    "pd.Series([\"Paul\", np.nan, \"George\"]).apply(type)"
   ]
  },
  {
   "cell_type": "code",
   "execution_count": 188,
   "metadata": {},
   "outputs": [
    {
     "data": {
      "text/plain": [
       "array([<class 'str'>, <class 'float'>], dtype=object)"
      ]
     },
     "execution_count": 188,
     "metadata": {},
     "output_type": "execute_result"
    }
   ],
   "source": [
    "pd.Series([\"Paul\", np.nan, \"George\"]).apply(type).unique()"
   ]
  },
  {
   "cell_type": "code",
   "execution_count": 189,
   "metadata": {},
   "outputs": [
    {
     "data": {
      "text/html": [
       "<div>\n",
       "<style scoped>\n",
       "    .dataframe tbody tr th:only-of-type {\n",
       "        vertical-align: middle;\n",
       "    }\n",
       "\n",
       "    .dataframe tbody tr th {\n",
       "        vertical-align: top;\n",
       "    }\n",
       "\n",
       "    .dataframe thead th {\n",
       "        text-align: right;\n",
       "    }\n",
       "</style>\n",
       "<table border=\"1\" class=\"dataframe\">\n",
       "  <thead>\n",
       "    <tr style=\"text-align: right;\">\n",
       "      <th></th>\n",
       "      <th>시군명</th>\n",
       "      <th>읍면동명</th>\n",
       "      <th>등록동물수(마리)</th>\n",
       "      <th>(등록주체)시군구등록</th>\n",
       "      <th>(등록주체)대행업체등록</th>\n",
       "      <th>(등록주체)기타</th>\n",
       "      <th>(RFID종류)내장형</th>\n",
       "      <th>(RFID종류)외장형</th>\n",
       "      <th>(RFID종류)인식표</th>\n",
       "      <th>등록품종수</th>\n",
       "      <th>등록소유자수</th>\n",
       "      <th>동물소유자당등록동물수</th>\n",
       "      <th>해당동의등록대행업체수</th>\n",
       "      <th>데이터기준일자</th>\n",
       "    </tr>\n",
       "  </thead>\n",
       "  <tbody>\n",
       "    <tr>\n",
       "      <th>0</th>\n",
       "      <td>가평군</td>\n",
       "      <td>가평읍</td>\n",
       "      <td>1508</td>\n",
       "      <td>NaN</td>\n",
       "      <td>NaN</td>\n",
       "      <td>NaN</td>\n",
       "      <td>984</td>\n",
       "      <td>462</td>\n",
       "      <td>62</td>\n",
       "      <td>NaN</td>\n",
       "      <td>1011</td>\n",
       "      <td>NaN</td>\n",
       "      <td>1.0</td>\n",
       "      <td>2022-12-31</td>\n",
       "    </tr>\n",
       "    <tr>\n",
       "      <th>1</th>\n",
       "      <td>가평군</td>\n",
       "      <td>북면</td>\n",
       "      <td>455</td>\n",
       "      <td>NaN</td>\n",
       "      <td>NaN</td>\n",
       "      <td>NaN</td>\n",
       "      <td>288</td>\n",
       "      <td>134</td>\n",
       "      <td>33</td>\n",
       "      <td>NaN</td>\n",
       "      <td>278</td>\n",
       "      <td>NaN</td>\n",
       "      <td>0.0</td>\n",
       "      <td>2022-12-31</td>\n",
       "    </tr>\n",
       "    <tr>\n",
       "      <th>2</th>\n",
       "      <td>가평군</td>\n",
       "      <td>상면</td>\n",
       "      <td>778</td>\n",
       "      <td>NaN</td>\n",
       "      <td>NaN</td>\n",
       "      <td>NaN</td>\n",
       "      <td>489</td>\n",
       "      <td>239</td>\n",
       "      <td>50</td>\n",
       "      <td>NaN</td>\n",
       "      <td>465</td>\n",
       "      <td>NaN</td>\n",
       "      <td>0.0</td>\n",
       "      <td>2022-12-31</td>\n",
       "    </tr>\n",
       "    <tr>\n",
       "      <th>3</th>\n",
       "      <td>가평군</td>\n",
       "      <td>설악면</td>\n",
       "      <td>1589</td>\n",
       "      <td>NaN</td>\n",
       "      <td>NaN</td>\n",
       "      <td>NaN</td>\n",
       "      <td>746</td>\n",
       "      <td>774</td>\n",
       "      <td>69</td>\n",
       "      <td>NaN</td>\n",
       "      <td>907</td>\n",
       "      <td>NaN</td>\n",
       "      <td>1.0</td>\n",
       "      <td>2022-12-31</td>\n",
       "    </tr>\n",
       "    <tr>\n",
       "      <th>4</th>\n",
       "      <td>가평군</td>\n",
       "      <td>조종면</td>\n",
       "      <td>768</td>\n",
       "      <td>NaN</td>\n",
       "      <td>NaN</td>\n",
       "      <td>NaN</td>\n",
       "      <td>480</td>\n",
       "      <td>243</td>\n",
       "      <td>45</td>\n",
       "      <td>NaN</td>\n",
       "      <td>481</td>\n",
       "      <td>NaN</td>\n",
       "      <td>1.0</td>\n",
       "      <td>2022-12-31</td>\n",
       "    </tr>\n",
       "    <tr>\n",
       "      <th>...</th>\n",
       "      <td>...</td>\n",
       "      <td>...</td>\n",
       "      <td>...</td>\n",
       "      <td>...</td>\n",
       "      <td>...</td>\n",
       "      <td>...</td>\n",
       "      <td>...</td>\n",
       "      <td>...</td>\n",
       "      <td>...</td>\n",
       "      <td>...</td>\n",
       "      <td>...</td>\n",
       "      <td>...</td>\n",
       "      <td>...</td>\n",
       "      <td>...</td>\n",
       "    </tr>\n",
       "    <tr>\n",
       "      <th>708</th>\n",
       "      <td>화성시</td>\n",
       "      <td>청계동</td>\n",
       "      <td>2046</td>\n",
       "      <td>90.0</td>\n",
       "      <td>1956.0</td>\n",
       "      <td>0.0</td>\n",
       "      <td>1052</td>\n",
       "      <td>879</td>\n",
       "      <td>115</td>\n",
       "      <td>66.0</td>\n",
       "      <td>1679</td>\n",
       "      <td>1.22</td>\n",
       "      <td>4.0</td>\n",
       "      <td>2022-05-31</td>\n",
       "    </tr>\n",
       "    <tr>\n",
       "      <th>709</th>\n",
       "      <td>화성시</td>\n",
       "      <td>팔탄면</td>\n",
       "      <td>753</td>\n",
       "      <td>87.0</td>\n",
       "      <td>665.0</td>\n",
       "      <td>1.0</td>\n",
       "      <td>345</td>\n",
       "      <td>305</td>\n",
       "      <td>103</td>\n",
       "      <td>62.0</td>\n",
       "      <td>412</td>\n",
       "      <td>1.83</td>\n",
       "      <td>1.0</td>\n",
       "      <td>2022-05-31</td>\n",
       "    </tr>\n",
       "    <tr>\n",
       "      <th>710</th>\n",
       "      <td>화성시</td>\n",
       "      <td>향남읍</td>\n",
       "      <td>5180</td>\n",
       "      <td>314.0</td>\n",
       "      <td>4863.0</td>\n",
       "      <td>3.0</td>\n",
       "      <td>2110</td>\n",
       "      <td>2584</td>\n",
       "      <td>486</td>\n",
       "      <td>103.0</td>\n",
       "      <td>3719</td>\n",
       "      <td>1.39</td>\n",
       "      <td>6.0</td>\n",
       "      <td>2022-05-31</td>\n",
       "    </tr>\n",
       "    <tr>\n",
       "      <th>711</th>\n",
       "      <td>화성시</td>\n",
       "      <td>활초동</td>\n",
       "      <td>15</td>\n",
       "      <td>0.0</td>\n",
       "      <td>15.0</td>\n",
       "      <td>0.0</td>\n",
       "      <td>4</td>\n",
       "      <td>11</td>\n",
       "      <td>0</td>\n",
       "      <td>7.0</td>\n",
       "      <td>11</td>\n",
       "      <td>1.36</td>\n",
       "      <td>0.0</td>\n",
       "      <td>2022-05-31</td>\n",
       "    </tr>\n",
       "    <tr>\n",
       "      <th>712</th>\n",
       "      <td>화성시</td>\n",
       "      <td>황계동</td>\n",
       "      <td>52</td>\n",
       "      <td>16.0</td>\n",
       "      <td>36.0</td>\n",
       "      <td>0.0</td>\n",
       "      <td>19</td>\n",
       "      <td>13</td>\n",
       "      <td>20</td>\n",
       "      <td>15.0</td>\n",
       "      <td>24</td>\n",
       "      <td>2.17</td>\n",
       "      <td>0.0</td>\n",
       "      <td>2022-05-31</td>\n",
       "    </tr>\n",
       "  </tbody>\n",
       "</table>\n",
       "<p>713 rows × 14 columns</p>\n",
       "</div>"
      ],
      "text/plain": [
       "     시군명 읍면동명  등록동물수(마리)  (등록주체)시군구등록  (등록주체)대행업체등록  (등록주체)기타  (RFID종류)내장형  \\\n",
       "0    가평군  가평읍       1508          NaN           NaN       NaN          984   \n",
       "1    가평군   북면        455          NaN           NaN       NaN          288   \n",
       "2    가평군   상면        778          NaN           NaN       NaN          489   \n",
       "3    가평군  설악면       1589          NaN           NaN       NaN          746   \n",
       "4    가평군  조종면        768          NaN           NaN       NaN          480   \n",
       "..   ...  ...        ...          ...           ...       ...          ...   \n",
       "708  화성시  청계동       2046         90.0        1956.0       0.0         1052   \n",
       "709  화성시  팔탄면        753         87.0         665.0       1.0          345   \n",
       "710  화성시  향남읍       5180        314.0        4863.0       3.0         2110   \n",
       "711  화성시  활초동         15          0.0          15.0       0.0            4   \n",
       "712  화성시  황계동         52         16.0          36.0       0.0           19   \n",
       "\n",
       "     (RFID종류)외장형  (RFID종류)인식표  등록품종수  등록소유자수  동물소유자당등록동물수  해당동의등록대행업체수  \\\n",
       "0            462           62    NaN    1011          NaN          1.0   \n",
       "1            134           33    NaN     278          NaN          0.0   \n",
       "2            239           50    NaN     465          NaN          0.0   \n",
       "3            774           69    NaN     907          NaN          1.0   \n",
       "4            243           45    NaN     481          NaN          1.0   \n",
       "..           ...          ...    ...     ...          ...          ...   \n",
       "708          879          115   66.0    1679         1.22          4.0   \n",
       "709          305          103   62.0     412         1.83          1.0   \n",
       "710         2584          486  103.0    3719         1.39          6.0   \n",
       "711           11            0    7.0      11         1.36          0.0   \n",
       "712           13           20   15.0      24         2.17          0.0   \n",
       "\n",
       "        데이터기준일자  \n",
       "0    2022-12-31  \n",
       "1    2022-12-31  \n",
       "2    2022-12-31  \n",
       "3    2022-12-31  \n",
       "4    2022-12-31  \n",
       "..          ...  \n",
       "708  2022-05-31  \n",
       "709  2022-05-31  \n",
       "710  2022-05-31  \n",
       "711  2022-05-31  \n",
       "712  2022-05-31  \n",
       "\n",
       "[713 rows x 14 columns]"
      ]
     },
     "execution_count": 189,
     "metadata": {},
     "output_type": "execute_result"
    }
   ],
   "source": [
    "#csv용량 줄이기를 할껀데 전체 파일이 차지할 메모리를 알아보자. read_csv의 nrows매개변수를 사용하면 읽을 데이터를 작은 표본으로 제안할 수 있다.\n",
    "경기도반려동물등록현황 = pd.read_csv(\"C:/Users/chldm/Downloads/반려동물등록현황.csv\", encoding = \"euc-kr\" \n",
    "                       #nrows=1000\n",
    "                      )\n",
    "경기도반려동물등록현황"
   ]
  },
  {
   "cell_type": "code",
   "execution_count": 190,
   "metadata": {},
   "outputs": [
    {
     "name": "stdout",
     "output_type": "stream",
     "text": [
      "<class 'pandas.core.frame.DataFrame'>\n",
      "RangeIndex: 713 entries, 0 to 712\n",
      "Data columns (total 14 columns):\n",
      " #   Column        Non-Null Count  Dtype  \n",
      "---  ------        --------------  -----  \n",
      " 0   시군명           713 non-null    object \n",
      " 1   읍면동명          712 non-null    object \n",
      " 2   등록동물수(마리)     713 non-null    int64  \n",
      " 3   (등록주체)시군구등록   707 non-null    float64\n",
      " 4   (등록주체)대행업체등록  698 non-null    float64\n",
      " 5   (등록주체)기타      689 non-null    float64\n",
      " 6   (RFID종류)내장형   713 non-null    int64  \n",
      " 7   (RFID종류)외장형   713 non-null    int64  \n",
      " 8   (RFID종류)인식표   713 non-null    int64  \n",
      " 9   등록품종수         698 non-null    float64\n",
      " 10  등록소유자수        713 non-null    int64  \n",
      " 11  동물소유자당등록동물수   707 non-null    float64\n",
      " 12  해당동의등록대행업체수   406 non-null    float64\n",
      " 13  데이터기준일자       713 non-null    object \n",
      "dtypes: float64(6), int64(5), object(3)\n",
      "memory usage: 78.1+ KB\n"
     ]
    }
   ],
   "source": [
    "# .info메서드를 시용해 데이터 표본이 사용하고 있는 메모리 용량을 살펴보자.\n",
    "경기도반려동물등록현황.info()"
   ]
  },
  {
   "cell_type": "markdown",
   "metadata": {},
   "source": [
    "위에 내용을 해석해보면 713개의 행이 78.1 KB의 메모리를 사용하고 있다는 의미.\n",
    "\n",
    "Type Capacity\n",
    "\n",
    "Int16 -- (-32,768 to +32,767)\n",
    "\n",
    "Int32 -- (-2,147,483,648 to +2,147,483,647)\n",
    "\n",
    "Int64 -- (-9,223,372,036,854,775,808 to +9,223,372,036,854,775,807)"
   ]
  },
  {
   "cell_type": "code",
   "execution_count": 195,
   "metadata": {},
   "outputs": [
    {
     "data": {
      "text/plain": [
       "iinfo(min=-32768, max=32767, dtype=int16)"
      ]
     },
     "execution_count": 195,
     "metadata": {},
     "output_type": "execute_result"
    }
   ],
   "source": [
    "np.iinfo(np.int16)"
   ]
  },
  {
   "cell_type": "code",
   "execution_count": 196,
   "metadata": {},
   "outputs": [
    {
     "data": {
      "text/plain": [
       "iinfo(min=-2147483648, max=2147483647, dtype=int32)"
      ]
     },
     "execution_count": 196,
     "metadata": {},
     "output_type": "execute_result"
    }
   ],
   "source": [
    "np.iinfo(np.int32)"
   ]
  },
  {
   "cell_type": "code",
   "execution_count": 197,
   "metadata": {},
   "outputs": [
    {
     "data": {
      "text/plain": [
       "iinfo(min=-9223372036854775808, max=9223372036854775807, dtype=int64)"
      ]
     },
     "execution_count": 197,
     "metadata": {},
     "output_type": "execute_result"
    }
   ],
   "source": [
    "np.iinfo(np.int64)"
   ]
  },
  {
   "cell_type": "code",
   "execution_count": 198,
   "metadata": {},
   "outputs": [
    {
     "name": "stdout",
     "output_type": "stream",
     "text": [
      "<class 'pandas.core.frame.DataFrame'>\n",
      "RangeIndex: 713 entries, 0 to 712\n",
      "Data columns (total 14 columns):\n",
      " #   Column        Non-Null Count  Dtype  \n",
      "---  ------        --------------  -----  \n",
      " 0   시군명           713 non-null    object \n",
      " 1   읍면동명          712 non-null    object \n",
      " 2   등록동물수(마리)     713 non-null    int64  \n",
      " 3   (등록주체)시군구등록   707 non-null    float64\n",
      " 4   (등록주체)대행업체등록  698 non-null    float64\n",
      " 5   (등록주체)기타      689 non-null    float64\n",
      " 6   (RFID종류)내장형   713 non-null    int64  \n",
      " 7   (RFID종류)외장형   713 non-null    int64  \n",
      " 8   (RFID종류)인식표   713 non-null    int64  \n",
      " 9   등록품종수         698 non-null    float64\n",
      " 10  등록소유자수        713 non-null    int64  \n",
      " 11  동물소유자당등록동물수   707 non-null    float64\n",
      " 12  해당동의등록대행업체수   406 non-null    float64\n",
      " 13  데이터기준일자       713 non-null    object \n",
      "dtypes: float64(6), int64(5), object(3)\n",
      "memory usage: 78.1+ KB\n"
     ]
    }
   ],
   "source": [
    "경기도반려동물등록현황.info()"
   ]
  },
  {
   "cell_type": "code",
   "execution_count": 199,
   "metadata": {},
   "outputs": [
    {
     "data": {
      "text/plain": [
       "array([<class 'str'>], dtype=object)"
      ]
     },
     "execution_count": 199,
     "metadata": {},
     "output_type": "execute_result"
    }
   ],
   "source": [
    "경기도반려동물등록현황.loc[:,'시군명'].apply(type).unique()"
   ]
  },
  {
   "cell_type": "code",
   "execution_count": 200,
   "metadata": {},
   "outputs": [
    {
     "data": {
      "text/plain": [
       "0"
      ]
     },
     "execution_count": 200,
     "metadata": {},
     "output_type": "execute_result"
    }
   ],
   "source": [
    "경기도반려동물등록현황.loc[:,'시군명'].isnull().sum()"
   ]
  },
  {
   "cell_type": "code",
   "execution_count": 201,
   "metadata": {},
   "outputs": [],
   "source": [
    "#read_csv에 dtype 매개변수를 사용해 정확한 수치 형식을 사용하도록 지정해보자.\n",
    "경기도반려동물등록현황2 = pd.read_csv(\"C:/Users/chldm/Downloads/반려동물등록현황.csv\", encoding=\"euc-kr\")"
   ]
  },
  {
   "cell_type": "code",
   "execution_count": 202,
   "metadata": {},
   "outputs": [],
   "source": [
    "경기도반려동물등록현황2.dropna(subset=['(등록주체)대행업체등록'], inplace=True)     #지정하기 전 결측치 제거"
   ]
  },
  {
   "cell_type": "code",
   "execution_count": 222,
   "metadata": {},
   "outputs": [],
   "source": [
    "dtype = {\n",
    "    \"등록동물수(마리)\": np.int32,\n",
    "    \"(등록주체)시군구등록\": np.int16,\n",
    "    \"(등록주체)대행업체등록\": pd.Int32Dtype(),\n",
    "    \"(등록주체)기타\": np.int16,\n",
    "    \"(RFID종류)내장형\": np.float64,\n",
    "    \"(RFID종류)외장형\": np.int32,\n",
    "}"
   ]
  },
  {
   "cell_type": "code",
   "execution_count": 223,
   "metadata": {},
   "outputs": [
    {
     "data": {
      "text/html": [
       "<div>\n",
       "<style scoped>\n",
       "    .dataframe tbody tr th:only-of-type {\n",
       "        vertical-align: middle;\n",
       "    }\n",
       "\n",
       "    .dataframe tbody tr th {\n",
       "        vertical-align: top;\n",
       "    }\n",
       "\n",
       "    .dataframe thead th {\n",
       "        text-align: right;\n",
       "    }\n",
       "</style>\n",
       "<table border=\"1\" class=\"dataframe\">\n",
       "  <thead>\n",
       "    <tr style=\"text-align: right;\">\n",
       "      <th></th>\n",
       "      <th>시군명</th>\n",
       "      <th>읍면동명</th>\n",
       "      <th>등록동물수(마리)</th>\n",
       "      <th>(등록주체)시군구등록</th>\n",
       "      <th>(등록주체)대행업체등록</th>\n",
       "      <th>(등록주체)기타</th>\n",
       "      <th>(RFID종류)내장형</th>\n",
       "      <th>(RFID종류)외장형</th>\n",
       "      <th>(RFID종류)인식표</th>\n",
       "      <th>등록품종수</th>\n",
       "      <th>등록소유자수</th>\n",
       "      <th>동물소유자당등록동물수</th>\n",
       "      <th>해당동의등록대행업체수</th>\n",
       "      <th>데이터기준일자</th>\n",
       "    </tr>\n",
       "  </thead>\n",
       "  <tbody>\n",
       "    <tr>\n",
       "      <th>6</th>\n",
       "      <td>고양시</td>\n",
       "      <td>가좌동</td>\n",
       "      <td>1354</td>\n",
       "      <td>6.0</td>\n",
       "      <td>1347.0</td>\n",
       "      <td>1.0</td>\n",
       "      <td>848</td>\n",
       "      <td>348</td>\n",
       "      <td>158</td>\n",
       "      <td>64.0</td>\n",
       "      <td>952</td>\n",
       "      <td>1.42</td>\n",
       "      <td>NaN</td>\n",
       "      <td>2022-06-03</td>\n",
       "    </tr>\n",
       "    <tr>\n",
       "      <th>7</th>\n",
       "      <td>고양시</td>\n",
       "      <td>강매동</td>\n",
       "      <td>63</td>\n",
       "      <td>0.0</td>\n",
       "      <td>63.0</td>\n",
       "      <td>0.0</td>\n",
       "      <td>57</td>\n",
       "      <td>5</td>\n",
       "      <td>1</td>\n",
       "      <td>15.0</td>\n",
       "      <td>30</td>\n",
       "      <td>2.10</td>\n",
       "      <td>NaN</td>\n",
       "      <td>2022-06-03</td>\n",
       "    </tr>\n",
       "    <tr>\n",
       "      <th>8</th>\n",
       "      <td>고양시</td>\n",
       "      <td>고양동</td>\n",
       "      <td>1577</td>\n",
       "      <td>19.0</td>\n",
       "      <td>1557.0</td>\n",
       "      <td>1.0</td>\n",
       "      <td>968</td>\n",
       "      <td>510</td>\n",
       "      <td>99</td>\n",
       "      <td>63.0</td>\n",
       "      <td>1182</td>\n",
       "      <td>1.33</td>\n",
       "      <td>NaN</td>\n",
       "      <td>2022-06-03</td>\n",
       "    </tr>\n",
       "    <tr>\n",
       "      <th>9</th>\n",
       "      <td>고양시</td>\n",
       "      <td>관산동</td>\n",
       "      <td>1184</td>\n",
       "      <td>15.0</td>\n",
       "      <td>1169.0</td>\n",
       "      <td>0.0</td>\n",
       "      <td>672</td>\n",
       "      <td>442</td>\n",
       "      <td>70</td>\n",
       "      <td>60.0</td>\n",
       "      <td>855</td>\n",
       "      <td>1.38</td>\n",
       "      <td>NaN</td>\n",
       "      <td>2022-06-03</td>\n",
       "    </tr>\n",
       "    <tr>\n",
       "      <th>10</th>\n",
       "      <td>고양시</td>\n",
       "      <td>구산동</td>\n",
       "      <td>152</td>\n",
       "      <td>2.0</td>\n",
       "      <td>150.0</td>\n",
       "      <td>0.0</td>\n",
       "      <td>97</td>\n",
       "      <td>42</td>\n",
       "      <td>13</td>\n",
       "      <td>31.0</td>\n",
       "      <td>90</td>\n",
       "      <td>1.69</td>\n",
       "      <td>NaN</td>\n",
       "      <td>2022-06-03</td>\n",
       "    </tr>\n",
       "    <tr>\n",
       "      <th>...</th>\n",
       "      <td>...</td>\n",
       "      <td>...</td>\n",
       "      <td>...</td>\n",
       "      <td>...</td>\n",
       "      <td>...</td>\n",
       "      <td>...</td>\n",
       "      <td>...</td>\n",
       "      <td>...</td>\n",
       "      <td>...</td>\n",
       "      <td>...</td>\n",
       "      <td>...</td>\n",
       "      <td>...</td>\n",
       "      <td>...</td>\n",
       "      <td>...</td>\n",
       "    </tr>\n",
       "    <tr>\n",
       "      <th>708</th>\n",
       "      <td>화성시</td>\n",
       "      <td>청계동</td>\n",
       "      <td>2046</td>\n",
       "      <td>90.0</td>\n",
       "      <td>1956.0</td>\n",
       "      <td>0.0</td>\n",
       "      <td>1052</td>\n",
       "      <td>879</td>\n",
       "      <td>115</td>\n",
       "      <td>66.0</td>\n",
       "      <td>1679</td>\n",
       "      <td>1.22</td>\n",
       "      <td>4.0</td>\n",
       "      <td>2022-05-31</td>\n",
       "    </tr>\n",
       "    <tr>\n",
       "      <th>709</th>\n",
       "      <td>화성시</td>\n",
       "      <td>팔탄면</td>\n",
       "      <td>753</td>\n",
       "      <td>87.0</td>\n",
       "      <td>665.0</td>\n",
       "      <td>1.0</td>\n",
       "      <td>345</td>\n",
       "      <td>305</td>\n",
       "      <td>103</td>\n",
       "      <td>62.0</td>\n",
       "      <td>412</td>\n",
       "      <td>1.83</td>\n",
       "      <td>1.0</td>\n",
       "      <td>2022-05-31</td>\n",
       "    </tr>\n",
       "    <tr>\n",
       "      <th>710</th>\n",
       "      <td>화성시</td>\n",
       "      <td>향남읍</td>\n",
       "      <td>5180</td>\n",
       "      <td>314.0</td>\n",
       "      <td>4863.0</td>\n",
       "      <td>3.0</td>\n",
       "      <td>2110</td>\n",
       "      <td>2584</td>\n",
       "      <td>486</td>\n",
       "      <td>103.0</td>\n",
       "      <td>3719</td>\n",
       "      <td>1.39</td>\n",
       "      <td>6.0</td>\n",
       "      <td>2022-05-31</td>\n",
       "    </tr>\n",
       "    <tr>\n",
       "      <th>711</th>\n",
       "      <td>화성시</td>\n",
       "      <td>활초동</td>\n",
       "      <td>15</td>\n",
       "      <td>0.0</td>\n",
       "      <td>15.0</td>\n",
       "      <td>0.0</td>\n",
       "      <td>4</td>\n",
       "      <td>11</td>\n",
       "      <td>0</td>\n",
       "      <td>7.0</td>\n",
       "      <td>11</td>\n",
       "      <td>1.36</td>\n",
       "      <td>0.0</td>\n",
       "      <td>2022-05-31</td>\n",
       "    </tr>\n",
       "    <tr>\n",
       "      <th>712</th>\n",
       "      <td>화성시</td>\n",
       "      <td>황계동</td>\n",
       "      <td>52</td>\n",
       "      <td>16.0</td>\n",
       "      <td>36.0</td>\n",
       "      <td>0.0</td>\n",
       "      <td>19</td>\n",
       "      <td>13</td>\n",
       "      <td>20</td>\n",
       "      <td>15.0</td>\n",
       "      <td>24</td>\n",
       "      <td>2.17</td>\n",
       "      <td>0.0</td>\n",
       "      <td>2022-05-31</td>\n",
       "    </tr>\n",
       "  </tbody>\n",
       "</table>\n",
       "<p>698 rows × 14 columns</p>\n",
       "</div>"
      ],
      "text/plain": [
       "     시군명 읍면동명  등록동물수(마리)  (등록주체)시군구등록  (등록주체)대행업체등록  (등록주체)기타  (RFID종류)내장형  \\\n",
       "6    고양시  가좌동       1354          6.0        1347.0       1.0          848   \n",
       "7    고양시  강매동         63          0.0          63.0       0.0           57   \n",
       "8    고양시  고양동       1577         19.0        1557.0       1.0          968   \n",
       "9    고양시  관산동       1184         15.0        1169.0       0.0          672   \n",
       "10   고양시  구산동        152          2.0         150.0       0.0           97   \n",
       "..   ...  ...        ...          ...           ...       ...          ...   \n",
       "708  화성시  청계동       2046         90.0        1956.0       0.0         1052   \n",
       "709  화성시  팔탄면        753         87.0         665.0       1.0          345   \n",
       "710  화성시  향남읍       5180        314.0        4863.0       3.0         2110   \n",
       "711  화성시  활초동         15          0.0          15.0       0.0            4   \n",
       "712  화성시  황계동         52         16.0          36.0       0.0           19   \n",
       "\n",
       "     (RFID종류)외장형  (RFID종류)인식표  등록품종수  등록소유자수  동물소유자당등록동물수  해당동의등록대행업체수  \\\n",
       "6            348          158   64.0     952         1.42          NaN   \n",
       "7              5            1   15.0      30         2.10          NaN   \n",
       "8            510           99   63.0    1182         1.33          NaN   \n",
       "9            442           70   60.0     855         1.38          NaN   \n",
       "10            42           13   31.0      90         1.69          NaN   \n",
       "..           ...          ...    ...     ...          ...          ...   \n",
       "708          879          115   66.0    1679         1.22          4.0   \n",
       "709          305          103   62.0     412         1.83          1.0   \n",
       "710         2584          486  103.0    3719         1.39          6.0   \n",
       "711           11            0    7.0      11         1.36          0.0   \n",
       "712           13           20   15.0      24         2.17          0.0   \n",
       "\n",
       "        데이터기준일자  \n",
       "6    2022-06-03  \n",
       "7    2022-06-03  \n",
       "8    2022-06-03  \n",
       "9    2022-06-03  \n",
       "10   2022-06-03  \n",
       "..          ...  \n",
       "708  2022-05-31  \n",
       "709  2022-05-31  \n",
       "710  2022-05-31  \n",
       "711  2022-05-31  \n",
       "712  2022-05-31  \n",
       "\n",
       "[698 rows x 14 columns]"
      ]
     },
     "execution_count": 223,
     "metadata": {},
     "output_type": "execute_result"
    }
   ],
   "source": [
    "경기도반려동물등록현황2"
   ]
  },
  {
   "cell_type": "code",
   "execution_count": 225,
   "metadata": {},
   "outputs": [
    {
     "name": "stdout",
     "output_type": "stream",
     "text": [
      "<class 'pandas.core.frame.DataFrame'>\n",
      "Int64Index: 698 entries, 6 to 712\n",
      "Data columns (total 14 columns):\n",
      " #   Column        Non-Null Count  Dtype  \n",
      "---  ------        --------------  -----  \n",
      " 0   시군명           698 non-null    object \n",
      " 1   읍면동명          697 non-null    object \n",
      " 2   등록동물수(마리)     698 non-null    int64  \n",
      " 3   (등록주체)시군구등록   698 non-null    float64\n",
      " 4   (등록주체)대행업체등록  698 non-null    float64\n",
      " 5   (등록주체)기타      680 non-null    float64\n",
      " 6   (RFID종류)내장형   698 non-null    int64  \n",
      " 7   (RFID종류)외장형   698 non-null    int64  \n",
      " 8   (RFID종류)인식표   698 non-null    int64  \n",
      " 9   등록품종수         698 non-null    float64\n",
      " 10  등록소유자수        698 non-null    int64  \n",
      " 11  동물소유자당등록동물수   698 non-null    float64\n",
      " 12  해당동의등록대행업체수   400 non-null    float64\n",
      " 13  데이터기준일자       698 non-null    object \n",
      "dtypes: float64(6), int64(5), object(3)\n",
      "memory usage: 81.8+ KB\n"
     ]
    }
   ],
   "source": [
    "경기도반려동물등록현황2.info()"
   ]
  },
  {
   "cell_type": "code",
   "execution_count": 226,
   "metadata": {},
   "outputs": [
    {
     "data": {
      "text/html": [
       "<div>\n",
       "<style scoped>\n",
       "    .dataframe tbody tr th:only-of-type {\n",
       "        vertical-align: middle;\n",
       "    }\n",
       "\n",
       "    .dataframe tbody tr th {\n",
       "        vertical-align: top;\n",
       "    }\n",
       "\n",
       "    .dataframe thead th {\n",
       "        text-align: right;\n",
       "    }\n",
       "</style>\n",
       "<table border=\"1\" class=\"dataframe\">\n",
       "  <thead>\n",
       "    <tr style=\"text-align: right;\">\n",
       "      <th></th>\n",
       "      <th>등록동물수(마리)</th>\n",
       "      <th>(등록주체)시군구등록</th>\n",
       "      <th>(등록주체)대행업체등록</th>\n",
       "      <th>(등록주체)기타</th>\n",
       "      <th>(RFID종류)내장형</th>\n",
       "      <th>(RFID종류)외장형</th>\n",
       "      <th>(RFID종류)인식표</th>\n",
       "      <th>등록품종수</th>\n",
       "      <th>등록소유자수</th>\n",
       "      <th>동물소유자당등록동물수</th>\n",
       "      <th>해당동의등록대행업체수</th>\n",
       "    </tr>\n",
       "  </thead>\n",
       "  <tbody>\n",
       "    <tr>\n",
       "      <th>count</th>\n",
       "      <td>713.000000</td>\n",
       "      <td>707.000000</td>\n",
       "      <td>698.000000</td>\n",
       "      <td>689.000000</td>\n",
       "      <td>713.000000</td>\n",
       "      <td>713.000000</td>\n",
       "      <td>713.000000</td>\n",
       "      <td>698.000000</td>\n",
       "      <td>713.000000</td>\n",
       "      <td>707.000000</td>\n",
       "      <td>406.000000</td>\n",
       "    </tr>\n",
       "    <tr>\n",
       "      <th>mean</th>\n",
       "      <td>1426.713885</td>\n",
       "      <td>114.198020</td>\n",
       "      <td>1321.213467</td>\n",
       "      <td>20.746009</td>\n",
       "      <td>797.058906</td>\n",
       "      <td>484.768583</td>\n",
       "      <td>154.047686</td>\n",
       "      <td>52.787966</td>\n",
       "      <td>1051.674614</td>\n",
       "      <td>1.620636</td>\n",
       "      <td>1.842365</td>\n",
       "    </tr>\n",
       "    <tr>\n",
       "      <th>std</th>\n",
       "      <td>3753.720155</td>\n",
       "      <td>397.814829</td>\n",
       "      <td>3483.236428</td>\n",
       "      <td>268.489559</td>\n",
       "      <td>1962.766333</td>\n",
       "      <td>1373.866196</td>\n",
       "      <td>463.201233</td>\n",
       "      <td>84.492328</td>\n",
       "      <td>2797.614938</td>\n",
       "      <td>2.350234</td>\n",
       "      <td>4.678269</td>\n",
       "    </tr>\n",
       "    <tr>\n",
       "      <th>min</th>\n",
       "      <td>1.000000</td>\n",
       "      <td>0.000000</td>\n",
       "      <td>0.000000</td>\n",
       "      <td>0.000000</td>\n",
       "      <td>0.000000</td>\n",
       "      <td>0.000000</td>\n",
       "      <td>0.000000</td>\n",
       "      <td>1.000000</td>\n",
       "      <td>1.000000</td>\n",
       "      <td>1.000000</td>\n",
       "      <td>0.000000</td>\n",
       "    </tr>\n",
       "    <tr>\n",
       "      <th>25%</th>\n",
       "      <td>118.000000</td>\n",
       "      <td>7.500000</td>\n",
       "      <td>97.250000</td>\n",
       "      <td>0.000000</td>\n",
       "      <td>61.000000</td>\n",
       "      <td>36.000000</td>\n",
       "      <td>14.000000</td>\n",
       "      <td>26.250000</td>\n",
       "      <td>72.000000</td>\n",
       "      <td>1.310000</td>\n",
       "      <td>0.000000</td>\n",
       "    </tr>\n",
       "    <tr>\n",
       "      <th>50%</th>\n",
       "      <td>511.000000</td>\n",
       "      <td>34.000000</td>\n",
       "      <td>445.500000</td>\n",
       "      <td>0.000000</td>\n",
       "      <td>280.000000</td>\n",
       "      <td>170.000000</td>\n",
       "      <td>62.000000</td>\n",
       "      <td>48.000000</td>\n",
       "      <td>355.000000</td>\n",
       "      <td>1.400000</td>\n",
       "      <td>1.000000</td>\n",
       "    </tr>\n",
       "    <tr>\n",
       "      <th>75%</th>\n",
       "      <td>1508.000000</td>\n",
       "      <td>108.500000</td>\n",
       "      <td>1440.000000</td>\n",
       "      <td>1.000000</td>\n",
       "      <td>872.000000</td>\n",
       "      <td>536.000000</td>\n",
       "      <td>169.000000</td>\n",
       "      <td>69.000000</td>\n",
       "      <td>1136.000000</td>\n",
       "      <td>1.625000</td>\n",
       "      <td>2.000000</td>\n",
       "    </tr>\n",
       "    <tr>\n",
       "      <th>max</th>\n",
       "      <td>56946.000000</td>\n",
       "      <td>8461.000000</td>\n",
       "      <td>55532.000000</td>\n",
       "      <td>5608.000000</td>\n",
       "      <td>30072.000000</td>\n",
       "      <td>21736.000000</td>\n",
       "      <td>7948.000000</td>\n",
       "      <td>2146.000000</td>\n",
       "      <td>43266.000000</td>\n",
       "      <td>63.120000</td>\n",
       "      <td>77.000000</td>\n",
       "    </tr>\n",
       "  </tbody>\n",
       "</table>\n",
       "</div>"
      ],
      "text/plain": [
       "          등록동물수(마리)  (등록주체)시군구등록  (등록주체)대행업체등록     (등록주체)기타   (RFID종류)내장형  \\\n",
       "count    713.000000   707.000000    698.000000   689.000000    713.000000   \n",
       "mean    1426.713885   114.198020   1321.213467    20.746009    797.058906   \n",
       "std     3753.720155   397.814829   3483.236428   268.489559   1962.766333   \n",
       "min        1.000000     0.000000      0.000000     0.000000      0.000000   \n",
       "25%      118.000000     7.500000     97.250000     0.000000     61.000000   \n",
       "50%      511.000000    34.000000    445.500000     0.000000    280.000000   \n",
       "75%     1508.000000   108.500000   1440.000000     1.000000    872.000000   \n",
       "max    56946.000000  8461.000000  55532.000000  5608.000000  30072.000000   \n",
       "\n",
       "        (RFID종류)외장형  (RFID종류)인식표        등록품종수        등록소유자수  동물소유자당등록동물수  \\\n",
       "count    713.000000   713.000000   698.000000    713.000000   707.000000   \n",
       "mean     484.768583   154.047686    52.787966   1051.674614     1.620636   \n",
       "std     1373.866196   463.201233    84.492328   2797.614938     2.350234   \n",
       "min        0.000000     0.000000     1.000000      1.000000     1.000000   \n",
       "25%       36.000000    14.000000    26.250000     72.000000     1.310000   \n",
       "50%      170.000000    62.000000    48.000000    355.000000     1.400000   \n",
       "75%      536.000000   169.000000    69.000000   1136.000000     1.625000   \n",
       "max    21736.000000  7948.000000  2146.000000  43266.000000    63.120000   \n",
       "\n",
       "       해당동의등록대행업체수  \n",
       "count   406.000000  \n",
       "mean      1.842365  \n",
       "std       4.678269  \n",
       "min       0.000000  \n",
       "25%       0.000000  \n",
       "50%       1.000000  \n",
       "75%       2.000000  \n",
       "max      77.000000  "
      ]
     },
     "execution_count": 226,
     "metadata": {},
     "output_type": "execute_result"
    }
   ],
   "source": [
    "#새 데이터와 요약 통계량이 원시 데이터와 유사한지 확인해보자.\n",
    "경기도반려동물등록현황.describe()"
   ]
  },
  {
   "cell_type": "code",
   "execution_count": 210,
   "metadata": {},
   "outputs": [
    {
     "data": {
      "text/html": [
       "<div>\n",
       "<style scoped>\n",
       "    .dataframe tbody tr th:only-of-type {\n",
       "        vertical-align: middle;\n",
       "    }\n",
       "\n",
       "    .dataframe tbody tr th {\n",
       "        vertical-align: top;\n",
       "    }\n",
       "\n",
       "    .dataframe thead th {\n",
       "        text-align: right;\n",
       "    }\n",
       "</style>\n",
       "<table border=\"1\" class=\"dataframe\">\n",
       "  <thead>\n",
       "    <tr style=\"text-align: right;\">\n",
       "      <th></th>\n",
       "      <th>등록동물수(마리)</th>\n",
       "      <th>(등록주체)시군구등록</th>\n",
       "      <th>(등록주체)대행업체등록</th>\n",
       "      <th>(등록주체)기타</th>\n",
       "      <th>(RFID종류)내장형</th>\n",
       "      <th>(RFID종류)외장형</th>\n",
       "      <th>(RFID종류)인식표</th>\n",
       "      <th>등록품종수</th>\n",
       "      <th>등록소유자수</th>\n",
       "      <th>동물소유자당등록동물수</th>\n",
       "      <th>해당동의등록대행업체수</th>\n",
       "    </tr>\n",
       "  </thead>\n",
       "  <tbody>\n",
       "    <tr>\n",
       "      <th>count</th>\n",
       "      <td>698.000000</td>\n",
       "      <td>698.000000</td>\n",
       "      <td>698.000000</td>\n",
       "      <td>680.000000</td>\n",
       "      <td>698.000000</td>\n",
       "      <td>698.000000</td>\n",
       "      <td>698.000000</td>\n",
       "      <td>698.000000</td>\n",
       "      <td>698.000000</td>\n",
       "      <td>698.000000</td>\n",
       "      <td>400.00000</td>\n",
       "    </tr>\n",
       "    <tr>\n",
       "      <th>mean</th>\n",
       "      <td>1424.916905</td>\n",
       "      <td>112.126074</td>\n",
       "      <td>1321.213467</td>\n",
       "      <td>0.854412</td>\n",
       "      <td>795.008596</td>\n",
       "      <td>485.090258</td>\n",
       "      <td>154.176218</td>\n",
       "      <td>52.787966</td>\n",
       "      <td>1050.207736</td>\n",
       "      <td>1.624341</td>\n",
       "      <td>1.85750</td>\n",
       "    </tr>\n",
       "    <tr>\n",
       "      <th>std</th>\n",
       "      <td>3785.783897</td>\n",
       "      <td>398.415547</td>\n",
       "      <td>3483.236428</td>\n",
       "      <td>2.392485</td>\n",
       "      <td>1978.268515</td>\n",
       "      <td>1386.563055</td>\n",
       "      <td>467.293980</td>\n",
       "      <td>84.492328</td>\n",
       "      <td>2820.481453</td>\n",
       "      <td>2.365088</td>\n",
       "      <td>4.71091</td>\n",
       "    </tr>\n",
       "    <tr>\n",
       "      <th>min</th>\n",
       "      <td>1.000000</td>\n",
       "      <td>0.000000</td>\n",
       "      <td>0.000000</td>\n",
       "      <td>0.000000</td>\n",
       "      <td>0.000000</td>\n",
       "      <td>0.000000</td>\n",
       "      <td>0.000000</td>\n",
       "      <td>1.000000</td>\n",
       "      <td>1.000000</td>\n",
       "      <td>1.000000</td>\n",
       "      <td>0.00000</td>\n",
       "    </tr>\n",
       "    <tr>\n",
       "      <th>25%</th>\n",
       "      <td>115.250000</td>\n",
       "      <td>7.000000</td>\n",
       "      <td>97.250000</td>\n",
       "      <td>0.000000</td>\n",
       "      <td>57.000000</td>\n",
       "      <td>35.250000</td>\n",
       "      <td>14.000000</td>\n",
       "      <td>26.250000</td>\n",
       "      <td>71.250000</td>\n",
       "      <td>1.310000</td>\n",
       "      <td>0.00000</td>\n",
       "    </tr>\n",
       "    <tr>\n",
       "      <th>50%</th>\n",
       "      <td>504.000000</td>\n",
       "      <td>33.000000</td>\n",
       "      <td>445.500000</td>\n",
       "      <td>0.000000</td>\n",
       "      <td>268.000000</td>\n",
       "      <td>169.000000</td>\n",
       "      <td>61.500000</td>\n",
       "      <td>48.000000</td>\n",
       "      <td>351.000000</td>\n",
       "      <td>1.400000</td>\n",
       "      <td>1.00000</td>\n",
       "    </tr>\n",
       "    <tr>\n",
       "      <th>75%</th>\n",
       "      <td>1487.250000</td>\n",
       "      <td>105.000000</td>\n",
       "      <td>1440.000000</td>\n",
       "      <td>1.000000</td>\n",
       "      <td>865.250000</td>\n",
       "      <td>535.750000</td>\n",
       "      <td>169.750000</td>\n",
       "      <td>69.000000</td>\n",
       "      <td>1136.000000</td>\n",
       "      <td>1.630000</td>\n",
       "      <td>2.00000</td>\n",
       "    </tr>\n",
       "    <tr>\n",
       "      <th>max</th>\n",
       "      <td>56946.000000</td>\n",
       "      <td>8461.000000</td>\n",
       "      <td>55532.000000</td>\n",
       "      <td>23.000000</td>\n",
       "      <td>30072.000000</td>\n",
       "      <td>21736.000000</td>\n",
       "      <td>7948.000000</td>\n",
       "      <td>2146.000000</td>\n",
       "      <td>43266.000000</td>\n",
       "      <td>63.120000</td>\n",
       "      <td>77.00000</td>\n",
       "    </tr>\n",
       "  </tbody>\n",
       "</table>\n",
       "</div>"
      ],
      "text/plain": [
       "          등록동물수(마리)  (등록주체)시군구등록  (등록주체)대행업체등록    (등록주체)기타   (RFID종류)내장형  \\\n",
       "count    698.000000   698.000000    698.000000  680.000000    698.000000   \n",
       "mean    1424.916905   112.126074   1321.213467    0.854412    795.008596   \n",
       "std     3785.783897   398.415547   3483.236428    2.392485   1978.268515   \n",
       "min        1.000000     0.000000      0.000000    0.000000      0.000000   \n",
       "25%      115.250000     7.000000     97.250000    0.000000     57.000000   \n",
       "50%      504.000000    33.000000    445.500000    0.000000    268.000000   \n",
       "75%     1487.250000   105.000000   1440.000000    1.000000    865.250000   \n",
       "max    56946.000000  8461.000000  55532.000000   23.000000  30072.000000   \n",
       "\n",
       "        (RFID종류)외장형  (RFID종류)인식표        등록품종수        등록소유자수  동물소유자당등록동물수  \\\n",
       "count    698.000000   698.000000   698.000000    698.000000   698.000000   \n",
       "mean     485.090258   154.176218    52.787966   1050.207736     1.624341   \n",
       "std     1386.563055   467.293980    84.492328   2820.481453     2.365088   \n",
       "min        0.000000     0.000000     1.000000      1.000000     1.000000   \n",
       "25%       35.250000    14.000000    26.250000     71.250000     1.310000   \n",
       "50%      169.000000    61.500000    48.000000    351.000000     1.400000   \n",
       "75%      535.750000   169.750000    69.000000   1136.000000     1.630000   \n",
       "max    21736.000000  7948.000000  2146.000000  43266.000000    63.120000   \n",
       "\n",
       "       해당동의등록대행업체수  \n",
       "count    400.00000  \n",
       "mean       1.85750  \n",
       "std        4.71091  \n",
       "min        0.00000  \n",
       "25%        0.00000  \n",
       "50%        1.00000  \n",
       "75%        2.00000  \n",
       "max       77.00000  "
      ]
     },
     "execution_count": 210,
     "metadata": {},
     "output_type": "execute_result"
    }
   ],
   "source": [
    "경기도반려동물등록현황2.describe()"
   ]
  },
  {
   "cell_type": "code",
   "execution_count": 211,
   "metadata": {},
   "outputs": [
    {
     "data": {
      "text/plain": [
       "수원시     55\n",
       "고양시     53\n",
       "화성시     52\n",
       "성남시     46\n",
       "안성시     46\n",
       "용인시     42\n",
       "평택시     38\n",
       "파주시     35\n",
       "여주시     32\n",
       "안산시     31\n",
       "시흥시     30\n",
       "부천시     25\n",
       "이천시     25\n",
       "하남시     23\n",
       "광주시     22\n",
       "남양주시    22\n",
       "양주시     22\n",
       "포천시     18\n",
       "김포시     15\n",
       "양평군     12\n",
       "의왕시     11\n",
       "연천군     10\n",
       "과천시     10\n",
       "광명시      8\n",
       "안양시      7\n",
       "구리시      7\n",
       "의정부시     1\n",
       "Name: 시군명, dtype: int64"
      ]
     },
     "execution_count": 211,
     "metadata": {},
     "output_type": "execute_result"
    }
   ],
   "source": [
    "#메모리를 가장 쉽게 줄이는 방법은 dtype를 변경하는 것!! 그걸로 해보자\n",
    "#dtype 매개변수를 사용해 객체 형식을 범주형으로 변경하면 각 object열의 .value_counts메서드를 살펴보자.(개수가 몇개 없으면 범주형으로 변경해서 메모리를 더 절약할 수 있다.)\n",
    "\n",
    "경기도반려동물등록현황2.시군명.value_counts()"
   ]
  },
  {
   "cell_type": "code",
   "execution_count": 212,
   "metadata": {},
   "outputs": [
    {
     "data": {
      "text/plain": [
       "6      고양시\n",
       "7      고양시\n",
       "8      고양시\n",
       "9      고양시\n",
       "10     고양시\n",
       "      ... \n",
       "708    화성시\n",
       "709    화성시\n",
       "710    화성시\n",
       "711    화성시\n",
       "712    화성시\n",
       "Name: 시군명, Length: 698, dtype: object"
      ]
     },
     "execution_count": 212,
     "metadata": {},
     "output_type": "execute_result"
    }
   ],
   "source": [
    "경기도반려동물등록현황2.시군명"
   ]
  },
  {
   "cell_type": "code",
   "execution_count": 213,
   "metadata": {},
   "outputs": [
    {
     "data": {
      "text/plain": [
       "중동      5\n",
       "합계      4\n",
       "금곡동     4\n",
       "장지동     3\n",
       "대장동     3\n",
       "       ..\n",
       "모가면     1\n",
       "곤지암읍    1\n",
       "신천동     1\n",
       "교문동     1\n",
       "시흥동     1\n",
       "Name: 읍면동명, Length: 651, dtype: int64"
      ]
     },
     "execution_count": 213,
     "metadata": {},
     "output_type": "execute_result"
    }
   ],
   "source": [
    "경기도반려동물등록현황2.읍면동명.value_counts()"
   ]
  },
  {
   "cell_type": "code",
   "execution_count": 214,
   "metadata": {},
   "outputs": [
    {
     "data": {
      "text/plain": [
       "16.0     15\n",
       "53.0     14\n",
       "43.0     14\n",
       "26.0     13\n",
       "36.0     13\n",
       "         ..\n",
       "132.0     1\n",
       "99.0      1\n",
       "122.0     1\n",
       "101.0     1\n",
       "137.0     1\n",
       "Name: 등록품종수, Length: 119, dtype: int64"
      ]
     },
     "execution_count": 214,
     "metadata": {},
     "output_type": "execute_result"
    }
   ],
   "source": [
    "경기도반려동물등록현황2.등록품종수.value_counts()"
   ]
  },
  {
   "cell_type": "code",
   "execution_count": 215,
   "metadata": {},
   "outputs": [
    {
     "data": {
      "text/plain": [
       "3       7\n",
       "23      6\n",
       "1       5\n",
       "11      5\n",
       "33      5\n",
       "       ..\n",
       "3688    1\n",
       "617     1\n",
       "619     1\n",
       "545     1\n",
       "405     1\n",
       "Name: 등록소유자수, Length: 519, dtype: int64"
      ]
     },
     "execution_count": 215,
     "metadata": {},
     "output_type": "execute_result"
    }
   ],
   "source": [
    "경기도반려동물등록현황2.등록소유자수.value_counts()"
   ]
  },
  {
   "cell_type": "code",
   "execution_count": 216,
   "metadata": {},
   "outputs": [
    {
     "data": {
      "text/plain": [
       "1.33     30\n",
       "1.30     25\n",
       "1.35     24\n",
       "1.32     21\n",
       "1.27     20\n",
       "         ..\n",
       "63.12     1\n",
       "2.65      1\n",
       "2.55      1\n",
       "3.56      1\n",
       "2.21      1\n",
       "Name: 동물소유자당등록동물수, Length: 124, dtype: int64"
      ]
     },
     "execution_count": 216,
     "metadata": {},
     "output_type": "execute_result"
    }
   ],
   "source": [
    "경기도반려동물등록현황2.동물소유자당등록동물수.value_counts()"
   ]
  },
  {
   "cell_type": "code",
   "execution_count": 217,
   "metadata": {},
   "outputs": [
    {
     "data": {
      "text/plain": [
       "0.0     199\n",
       "1.0      66\n",
       "2.0      39\n",
       "3.0      28\n",
       "4.0      25\n",
       "5.0      10\n",
       "7.0      10\n",
       "6.0       6\n",
       "9.0       5\n",
       "8.0       4\n",
       "10.0      2\n",
       "14.0      1\n",
       "20.0      1\n",
       "27.0      1\n",
       "77.0      1\n",
       "13.0      1\n",
       "11.0      1\n",
       "Name: 해당동의등록대행업체수, dtype: int64"
      ]
     },
     "execution_count": 217,
     "metadata": {},
     "output_type": "execute_result"
    }
   ],
   "source": [
    "경기도반려동물등록현황2.해당동의등록대행업체수.value_counts()"
   ]
  },
  {
   "cell_type": "code",
   "execution_count": 6,
   "metadata": {},
   "outputs": [],
   "source": [
    "# dtype을 범주형으로 변경해서 메모리를 더 줄여보자\n",
    "경기도반려동물등록현황3 = pd.read_csv(\"C:/Users/chldm/Downloads/반려동물등록현황.csv\", encoding=\"euc-kr\")"
   ]
  },
  {
   "cell_type": "code",
   "execution_count": 7,
   "metadata": {},
   "outputs": [],
   "source": [
    "경기도반려동물등록현황3.dropna(subset=['(등록주체)대행업체등록'], inplace=True)"
   ]
  },
  {
   "cell_type": "code",
   "execution_count": 8,
   "metadata": {},
   "outputs": [],
   "source": [
    "dtype={\"시군명\": \"category\",\n",
    "       \"읍면동명\": \"category\",\n",
    "       \"등록동물수(마리)\": \"category\",\n",
    "       \"(등록주체)시군구등록\": np.int32,\n",
    "       \"(등록주체)대행업체등록\": np.int16,\n",
    "       \"(등록주체)기타\": \"category\",\n",
    "       \"(RFID종류)내장형\": \"category\",\n",
    "       \"(RFID종류)외장형\": \"object\",\n",
    "       \"(RFID종류)인식표\": \"object\",\n",
    "       \"등록품종수\": np.int16,\n",
    "       \"등록소유자수\": np.int16,\n",
    "       \"동물소유자당등록동물수\": np.float32,\n",
    "       \"해당동의등록대행업체수\": np.int32,}"
   ]
  },
  {
   "cell_type": "code",
   "execution_count": 9,
   "metadata": {},
   "outputs": [
    {
     "name": "stdout",
     "output_type": "stream",
     "text": [
      "<class 'pandas.core.frame.DataFrame'>\n",
      "Int64Index: 698 entries, 6 to 712\n",
      "Data columns (total 14 columns):\n",
      " #   Column        Non-Null Count  Dtype  \n",
      "---  ------        --------------  -----  \n",
      " 0   시군명           698 non-null    object \n",
      " 1   읍면동명          697 non-null    object \n",
      " 2   등록동물수(마리)     698 non-null    int64  \n",
      " 3   (등록주체)시군구등록   698 non-null    float64\n",
      " 4   (등록주체)대행업체등록  698 non-null    float64\n",
      " 5   (등록주체)기타      680 non-null    float64\n",
      " 6   (RFID종류)내장형   698 non-null    int64  \n",
      " 7   (RFID종류)외장형   698 non-null    int64  \n",
      " 8   (RFID종류)인식표   698 non-null    int64  \n",
      " 9   등록품종수         698 non-null    float64\n",
      " 10  등록소유자수        698 non-null    int64  \n",
      " 11  동물소유자당등록동물수   698 non-null    float64\n",
      " 12  해당동의등록대행업체수   400 non-null    float64\n",
      " 13  데이터기준일자       698 non-null    object \n",
      "dtypes: float64(6), int64(5), object(3)\n",
      "memory usage: 81.8+ KB\n"
     ]
    }
   ],
   "source": [
    "경기도반려동물등록현황3.info()"
   ]
  },
  {
   "cell_type": "code",
   "execution_count": 10,
   "metadata": {},
   "outputs": [],
   "source": [
    "# 오브젝트 타입 -> 카테고리 타입으로 바꾸기 전에 각 row가 9만개라 치면 중복되는 걸 확인 해 보자"
   ]
  },
  {
   "cell_type": "code",
   "execution_count": 11,
   "metadata": {},
   "outputs": [],
   "source": [
    "경기도반려동물등록현황4 = pd.read_csv(\"C:/Users/chldm/Downloads/반려동물등록현황.csv\", encoding = \"euc-kr\" )"
   ]
  },
  {
   "cell_type": "code",
   "execution_count": 12,
   "metadata": {},
   "outputs": [
    {
     "data": {
      "text/html": [
       "<div>\n",
       "<style scoped>\n",
       "    .dataframe tbody tr th:only-of-type {\n",
       "        vertical-align: middle;\n",
       "    }\n",
       "\n",
       "    .dataframe tbody tr th {\n",
       "        vertical-align: top;\n",
       "    }\n",
       "\n",
       "    .dataframe thead th {\n",
       "        text-align: right;\n",
       "    }\n",
       "</style>\n",
       "<table border=\"1\" class=\"dataframe\">\n",
       "  <thead>\n",
       "    <tr style=\"text-align: right;\">\n",
       "      <th></th>\n",
       "      <th>시군명</th>\n",
       "      <th>읍면동명</th>\n",
       "      <th>등록동물수(마리)</th>\n",
       "      <th>(등록주체)시군구등록</th>\n",
       "      <th>(등록주체)대행업체등록</th>\n",
       "      <th>(등록주체)기타</th>\n",
       "      <th>(RFID종류)내장형</th>\n",
       "      <th>(RFID종류)외장형</th>\n",
       "      <th>(RFID종류)인식표</th>\n",
       "      <th>등록품종수</th>\n",
       "      <th>등록소유자수</th>\n",
       "      <th>동물소유자당등록동물수</th>\n",
       "      <th>해당동의등록대행업체수</th>\n",
       "      <th>데이터기준일자</th>\n",
       "    </tr>\n",
       "  </thead>\n",
       "  <tbody>\n",
       "    <tr>\n",
       "      <th>0</th>\n",
       "      <td>가평군</td>\n",
       "      <td>가평읍</td>\n",
       "      <td>1508</td>\n",
       "      <td>NaN</td>\n",
       "      <td>NaN</td>\n",
       "      <td>NaN</td>\n",
       "      <td>984</td>\n",
       "      <td>462</td>\n",
       "      <td>62</td>\n",
       "      <td>NaN</td>\n",
       "      <td>1011</td>\n",
       "      <td>NaN</td>\n",
       "      <td>1.0</td>\n",
       "      <td>2022-12-31</td>\n",
       "    </tr>\n",
       "    <tr>\n",
       "      <th>1</th>\n",
       "      <td>가평군</td>\n",
       "      <td>북면</td>\n",
       "      <td>455</td>\n",
       "      <td>NaN</td>\n",
       "      <td>NaN</td>\n",
       "      <td>NaN</td>\n",
       "      <td>288</td>\n",
       "      <td>134</td>\n",
       "      <td>33</td>\n",
       "      <td>NaN</td>\n",
       "      <td>278</td>\n",
       "      <td>NaN</td>\n",
       "      <td>0.0</td>\n",
       "      <td>2022-12-31</td>\n",
       "    </tr>\n",
       "    <tr>\n",
       "      <th>2</th>\n",
       "      <td>가평군</td>\n",
       "      <td>상면</td>\n",
       "      <td>778</td>\n",
       "      <td>NaN</td>\n",
       "      <td>NaN</td>\n",
       "      <td>NaN</td>\n",
       "      <td>489</td>\n",
       "      <td>239</td>\n",
       "      <td>50</td>\n",
       "      <td>NaN</td>\n",
       "      <td>465</td>\n",
       "      <td>NaN</td>\n",
       "      <td>0.0</td>\n",
       "      <td>2022-12-31</td>\n",
       "    </tr>\n",
       "    <tr>\n",
       "      <th>3</th>\n",
       "      <td>가평군</td>\n",
       "      <td>설악면</td>\n",
       "      <td>1589</td>\n",
       "      <td>NaN</td>\n",
       "      <td>NaN</td>\n",
       "      <td>NaN</td>\n",
       "      <td>746</td>\n",
       "      <td>774</td>\n",
       "      <td>69</td>\n",
       "      <td>NaN</td>\n",
       "      <td>907</td>\n",
       "      <td>NaN</td>\n",
       "      <td>1.0</td>\n",
       "      <td>2022-12-31</td>\n",
       "    </tr>\n",
       "    <tr>\n",
       "      <th>4</th>\n",
       "      <td>가평군</td>\n",
       "      <td>조종면</td>\n",
       "      <td>768</td>\n",
       "      <td>NaN</td>\n",
       "      <td>NaN</td>\n",
       "      <td>NaN</td>\n",
       "      <td>480</td>\n",
       "      <td>243</td>\n",
       "      <td>45</td>\n",
       "      <td>NaN</td>\n",
       "      <td>481</td>\n",
       "      <td>NaN</td>\n",
       "      <td>1.0</td>\n",
       "      <td>2022-12-31</td>\n",
       "    </tr>\n",
       "  </tbody>\n",
       "</table>\n",
       "</div>"
      ],
      "text/plain": [
       "   시군명 읍면동명  등록동물수(마리)  (등록주체)시군구등록  (등록주체)대행업체등록  (등록주체)기타  (RFID종류)내장형  \\\n",
       "0  가평군  가평읍       1508          NaN           NaN       NaN          984   \n",
       "1  가평군   북면        455          NaN           NaN       NaN          288   \n",
       "2  가평군   상면        778          NaN           NaN       NaN          489   \n",
       "3  가평군  설악면       1589          NaN           NaN       NaN          746   \n",
       "4  가평군  조종면        768          NaN           NaN       NaN          480   \n",
       "\n",
       "   (RFID종류)외장형  (RFID종류)인식표  등록품종수  등록소유자수  동물소유자당등록동물수  해당동의등록대행업체수  \\\n",
       "0          462           62    NaN    1011          NaN          1.0   \n",
       "1          134           33    NaN     278          NaN          0.0   \n",
       "2          239           50    NaN     465          NaN          0.0   \n",
       "3          774           69    NaN     907          NaN          1.0   \n",
       "4          243           45    NaN     481          NaN          1.0   \n",
       "\n",
       "      데이터기준일자  \n",
       "0  2022-12-31  \n",
       "1  2022-12-31  \n",
       "2  2022-12-31  \n",
       "3  2022-12-31  \n",
       "4  2022-12-31  "
      ]
     },
     "execution_count": 12,
     "metadata": {},
     "output_type": "execute_result"
    }
   ],
   "source": [
    "경기도반려동물등록현황4.head()"
   ]
  },
  {
   "cell_type": "code",
   "execution_count": 13,
   "metadata": {},
   "outputs": [
    {
     "name": "stdout",
     "output_type": "stream",
     "text": [
      "<class 'pandas.core.frame.DataFrame'>\n",
      "RangeIndex: 713 entries, 0 to 712\n",
      "Data columns (total 14 columns):\n",
      " #   Column        Non-Null Count  Dtype  \n",
      "---  ------        --------------  -----  \n",
      " 0   시군명           713 non-null    object \n",
      " 1   읍면동명          712 non-null    object \n",
      " 2   등록동물수(마리)     713 non-null    int64  \n",
      " 3   (등록주체)시군구등록   707 non-null    float64\n",
      " 4   (등록주체)대행업체등록  698 non-null    float64\n",
      " 5   (등록주체)기타      689 non-null    float64\n",
      " 6   (RFID종류)내장형   713 non-null    int64  \n",
      " 7   (RFID종류)외장형   713 non-null    int64  \n",
      " 8   (RFID종류)인식표   713 non-null    int64  \n",
      " 9   등록품종수         698 non-null    float64\n",
      " 10  등록소유자수        713 non-null    int64  \n",
      " 11  동물소유자당등록동물수   707 non-null    float64\n",
      " 12  해당동의등록대행업체수   406 non-null    float64\n",
      " 13  데이터기준일자       713 non-null    object \n",
      "dtypes: float64(6), int64(5), object(3)\n",
      "memory usage: 78.1+ KB\n"
     ]
    }
   ],
   "source": [
    "경기도반려동물등록현황4.info()"
   ]
  },
  {
   "cell_type": "code",
   "execution_count": 14,
   "metadata": {},
   "outputs": [
    {
     "data": {
      "text/html": [
       "<div>\n",
       "<style scoped>\n",
       "    .dataframe tbody tr th:only-of-type {\n",
       "        vertical-align: middle;\n",
       "    }\n",
       "\n",
       "    .dataframe tbody tr th {\n",
       "        vertical-align: top;\n",
       "    }\n",
       "\n",
       "    .dataframe thead th {\n",
       "        text-align: right;\n",
       "    }\n",
       "</style>\n",
       "<table border=\"1\" class=\"dataframe\">\n",
       "  <thead>\n",
       "    <tr style=\"text-align: right;\">\n",
       "      <th></th>\n",
       "      <th>count</th>\n",
       "      <th>unique</th>\n",
       "      <th>top</th>\n",
       "      <th>freq</th>\n",
       "    </tr>\n",
       "  </thead>\n",
       "  <tbody>\n",
       "    <tr>\n",
       "      <th>시군명</th>\n",
       "      <td>713</td>\n",
       "      <td>29</td>\n",
       "      <td>수원시</td>\n",
       "      <td>55</td>\n",
       "    </tr>\n",
       "    <tr>\n",
       "      <th>읍면동명</th>\n",
       "      <td>712</td>\n",
       "      <td>665</td>\n",
       "      <td>중동</td>\n",
       "      <td>5</td>\n",
       "    </tr>\n",
       "    <tr>\n",
       "      <th>데이터기준일자</th>\n",
       "      <td>713</td>\n",
       "      <td>26</td>\n",
       "      <td>2023-01-31</td>\n",
       "      <td>69</td>\n",
       "    </tr>\n",
       "  </tbody>\n",
       "</table>\n",
       "</div>"
      ],
      "text/plain": [
       "        count unique         top freq\n",
       "시군명       713     29         수원시   55\n",
       "읍면동명      712    665          중동    5\n",
       "데이터기준일자   713     26  2023-01-31   69"
      ]
     },
     "execution_count": 14,
     "metadata": {},
     "output_type": "execute_result"
    }
   ],
   "source": [
    "경기도반려동물등록현황4.describe(include='O').T"
   ]
  },
  {
   "cell_type": "code",
   "execution_count": 15,
   "metadata": {},
   "outputs": [
    {
     "data": {
      "text/plain": [
       "수원시     55\n",
       "고양시     53\n",
       "화성시     52\n",
       "안성시     46\n",
       "성남시     46\n",
       "용인시     42\n",
       "평택시     38\n",
       "파주시     35\n",
       "여주시     32\n",
       "안산시     31\n",
       "시흥시     30\n",
       "이천시     25\n",
       "부천시     25\n",
       "하남시     23\n",
       "양주시     22\n",
       "남양주시    22\n",
       "광주시     22\n",
       "포천시     18\n",
       "김포시     15\n",
       "양평군     12\n",
       "의왕시     11\n",
       "연천군     10\n",
       "과천시     10\n",
       "군포시      9\n",
       "광명시      8\n",
       "안양시      7\n",
       "구리시      7\n",
       "가평군      6\n",
       "의정부시     1\n",
       "Name: 시군명, dtype: int64"
      ]
     },
     "execution_count": 15,
     "metadata": {},
     "output_type": "execute_result"
    }
   ],
   "source": [
    "경기도반려동물등록현황4.시군명.value_counts()"
   ]
  },
  {
   "cell_type": "code",
   "execution_count": 16,
   "metadata": {},
   "outputs": [
    {
     "data": {
      "text/html": [
       "<div>\n",
       "<style scoped>\n",
       "    .dataframe tbody tr th:only-of-type {\n",
       "        vertical-align: middle;\n",
       "    }\n",
       "\n",
       "    .dataframe tbody tr th {\n",
       "        vertical-align: top;\n",
       "    }\n",
       "\n",
       "    .dataframe thead th {\n",
       "        text-align: right;\n",
       "    }\n",
       "</style>\n",
       "<table border=\"1\" class=\"dataframe\">\n",
       "  <thead>\n",
       "    <tr style=\"text-align: right;\">\n",
       "      <th></th>\n",
       "      <th>count</th>\n",
       "      <th>unique</th>\n",
       "      <th>top</th>\n",
       "      <th>freq</th>\n",
       "    </tr>\n",
       "  </thead>\n",
       "  <tbody>\n",
       "    <tr>\n",
       "      <th>시군명</th>\n",
       "      <td>713</td>\n",
       "      <td>29</td>\n",
       "      <td>수원시</td>\n",
       "      <td>55</td>\n",
       "    </tr>\n",
       "    <tr>\n",
       "      <th>읍면동명</th>\n",
       "      <td>712</td>\n",
       "      <td>665</td>\n",
       "      <td>중동</td>\n",
       "      <td>5</td>\n",
       "    </tr>\n",
       "    <tr>\n",
       "      <th>데이터기준일자</th>\n",
       "      <td>713</td>\n",
       "      <td>26</td>\n",
       "      <td>2023-01-31</td>\n",
       "      <td>69</td>\n",
       "    </tr>\n",
       "  </tbody>\n",
       "</table>\n",
       "</div>"
      ],
      "text/plain": [
       "        count unique         top freq\n",
       "시군명       713     29         수원시   55\n",
       "읍면동명      712    665          중동    5\n",
       "데이터기준일자   713     26  2023-01-31   69"
      ]
     },
     "execution_count": 16,
     "metadata": {},
     "output_type": "execute_result"
    }
   ],
   "source": [
    "경기도반려동물등록현황4.describe(include='O').T"
   ]
  },
  {
   "cell_type": "code",
   "execution_count": 17,
   "metadata": {},
   "outputs": [
    {
     "data": {
      "text/plain": [
       "array(['가평군', '고양시', '과천시', '광명시', '광주시', '구리시', '군포시', '김포시', '남양주시',\n",
       "       '부천시', '성남시', '수원시', '시흥시', '안산시', '안성시', '안양시', '양주시', '양평군',\n",
       "       '여주시', '연천군', '용인시', '의왕시', '의정부시', '이천시', '파주시', '평택시', '포천시',\n",
       "       '하남시', '화성시'], dtype=object)"
      ]
     },
     "execution_count": 17,
     "metadata": {},
     "output_type": "execute_result"
    }
   ],
   "source": [
    "경기도반려동물등록현황4.loc[:, \"시군명\"].unique()"
   ]
  },
  {
   "cell_type": "code",
   "execution_count": 18,
   "metadata": {},
   "outputs": [
    {
     "data": {
      "text/html": [
       "<div>\n",
       "<style scoped>\n",
       "    .dataframe tbody tr th:only-of-type {\n",
       "        vertical-align: middle;\n",
       "    }\n",
       "\n",
       "    .dataframe tbody tr th {\n",
       "        vertical-align: top;\n",
       "    }\n",
       "\n",
       "    .dataframe thead th {\n",
       "        text-align: right;\n",
       "    }\n",
       "</style>\n",
       "<table border=\"1\" class=\"dataframe\">\n",
       "  <thead>\n",
       "    <tr style=\"text-align: right;\">\n",
       "      <th></th>\n",
       "      <th>count</th>\n",
       "      <th>mean</th>\n",
       "      <th>std</th>\n",
       "      <th>min</th>\n",
       "      <th>25%</th>\n",
       "      <th>50%</th>\n",
       "      <th>75%</th>\n",
       "      <th>max</th>\n",
       "    </tr>\n",
       "  </thead>\n",
       "  <tbody>\n",
       "    <tr>\n",
       "      <th>등록동물수(마리)</th>\n",
       "      <td>713.0</td>\n",
       "      <td>1426.713885</td>\n",
       "      <td>3753.720155</td>\n",
       "      <td>1.0</td>\n",
       "      <td>118.00</td>\n",
       "      <td>511.0</td>\n",
       "      <td>1508.000</td>\n",
       "      <td>56946.00</td>\n",
       "    </tr>\n",
       "    <tr>\n",
       "      <th>(등록주체)시군구등록</th>\n",
       "      <td>707.0</td>\n",
       "      <td>114.198020</td>\n",
       "      <td>397.814829</td>\n",
       "      <td>0.0</td>\n",
       "      <td>7.50</td>\n",
       "      <td>34.0</td>\n",
       "      <td>108.500</td>\n",
       "      <td>8461.00</td>\n",
       "    </tr>\n",
       "    <tr>\n",
       "      <th>(등록주체)대행업체등록</th>\n",
       "      <td>698.0</td>\n",
       "      <td>1321.213467</td>\n",
       "      <td>3483.236428</td>\n",
       "      <td>0.0</td>\n",
       "      <td>97.25</td>\n",
       "      <td>445.5</td>\n",
       "      <td>1440.000</td>\n",
       "      <td>55532.00</td>\n",
       "    </tr>\n",
       "    <tr>\n",
       "      <th>(등록주체)기타</th>\n",
       "      <td>689.0</td>\n",
       "      <td>20.746009</td>\n",
       "      <td>268.489559</td>\n",
       "      <td>0.0</td>\n",
       "      <td>0.00</td>\n",
       "      <td>0.0</td>\n",
       "      <td>1.000</td>\n",
       "      <td>5608.00</td>\n",
       "    </tr>\n",
       "    <tr>\n",
       "      <th>(RFID종류)내장형</th>\n",
       "      <td>713.0</td>\n",
       "      <td>797.058906</td>\n",
       "      <td>1962.766333</td>\n",
       "      <td>0.0</td>\n",
       "      <td>61.00</td>\n",
       "      <td>280.0</td>\n",
       "      <td>872.000</td>\n",
       "      <td>30072.00</td>\n",
       "    </tr>\n",
       "    <tr>\n",
       "      <th>(RFID종류)외장형</th>\n",
       "      <td>713.0</td>\n",
       "      <td>484.768583</td>\n",
       "      <td>1373.866196</td>\n",
       "      <td>0.0</td>\n",
       "      <td>36.00</td>\n",
       "      <td>170.0</td>\n",
       "      <td>536.000</td>\n",
       "      <td>21736.00</td>\n",
       "    </tr>\n",
       "    <tr>\n",
       "      <th>(RFID종류)인식표</th>\n",
       "      <td>713.0</td>\n",
       "      <td>154.047686</td>\n",
       "      <td>463.201233</td>\n",
       "      <td>0.0</td>\n",
       "      <td>14.00</td>\n",
       "      <td>62.0</td>\n",
       "      <td>169.000</td>\n",
       "      <td>7948.00</td>\n",
       "    </tr>\n",
       "    <tr>\n",
       "      <th>등록품종수</th>\n",
       "      <td>698.0</td>\n",
       "      <td>52.787966</td>\n",
       "      <td>84.492328</td>\n",
       "      <td>1.0</td>\n",
       "      <td>26.25</td>\n",
       "      <td>48.0</td>\n",
       "      <td>69.000</td>\n",
       "      <td>2146.00</td>\n",
       "    </tr>\n",
       "    <tr>\n",
       "      <th>등록소유자수</th>\n",
       "      <td>713.0</td>\n",
       "      <td>1051.674614</td>\n",
       "      <td>2797.614938</td>\n",
       "      <td>1.0</td>\n",
       "      <td>72.00</td>\n",
       "      <td>355.0</td>\n",
       "      <td>1136.000</td>\n",
       "      <td>43266.00</td>\n",
       "    </tr>\n",
       "    <tr>\n",
       "      <th>동물소유자당등록동물수</th>\n",
       "      <td>707.0</td>\n",
       "      <td>1.620636</td>\n",
       "      <td>2.350234</td>\n",
       "      <td>1.0</td>\n",
       "      <td>1.31</td>\n",
       "      <td>1.4</td>\n",
       "      <td>1.625</td>\n",
       "      <td>63.12</td>\n",
       "    </tr>\n",
       "    <tr>\n",
       "      <th>해당동의등록대행업체수</th>\n",
       "      <td>406.0</td>\n",
       "      <td>1.842365</td>\n",
       "      <td>4.678269</td>\n",
       "      <td>0.0</td>\n",
       "      <td>0.00</td>\n",
       "      <td>1.0</td>\n",
       "      <td>2.000</td>\n",
       "      <td>77.00</td>\n",
       "    </tr>\n",
       "  </tbody>\n",
       "</table>\n",
       "</div>"
      ],
      "text/plain": [
       "              count         mean          std  min     25%    50%       75%  \\\n",
       "등록동물수(마리)     713.0  1426.713885  3753.720155  1.0  118.00  511.0  1508.000   \n",
       "(등록주체)시군구등록   707.0   114.198020   397.814829  0.0    7.50   34.0   108.500   \n",
       "(등록주체)대행업체등록  698.0  1321.213467  3483.236428  0.0   97.25  445.5  1440.000   \n",
       "(등록주체)기타      689.0    20.746009   268.489559  0.0    0.00    0.0     1.000   \n",
       "(RFID종류)내장형   713.0   797.058906  1962.766333  0.0   61.00  280.0   872.000   \n",
       "(RFID종류)외장형   713.0   484.768583  1373.866196  0.0   36.00  170.0   536.000   \n",
       "(RFID종류)인식표   713.0   154.047686   463.201233  0.0   14.00   62.0   169.000   \n",
       "등록품종수         698.0    52.787966    84.492328  1.0   26.25   48.0    69.000   \n",
       "등록소유자수        713.0  1051.674614  2797.614938  1.0   72.00  355.0  1136.000   \n",
       "동물소유자당등록동물수   707.0     1.620636     2.350234  1.0    1.31    1.4     1.625   \n",
       "해당동의등록대행업체수   406.0     1.842365     4.678269  0.0    0.00    1.0     2.000   \n",
       "\n",
       "                   max  \n",
       "등록동물수(마리)     56946.00  \n",
       "(등록주체)시군구등록    8461.00  \n",
       "(등록주체)대행업체등록  55532.00  \n",
       "(등록주체)기타       5608.00  \n",
       "(RFID종류)내장형   30072.00  \n",
       "(RFID종류)외장형   21736.00  \n",
       "(RFID종류)인식표    7948.00  \n",
       "등록품종수          2146.00  \n",
       "등록소유자수        43266.00  \n",
       "동물소유자당등록동물수      63.12  \n",
       "해당동의등록대행업체수      77.00  "
      ]
     },
     "execution_count": 18,
     "metadata": {},
     "output_type": "execute_result"
    }
   ],
   "source": [
    "경기도반려동물등록현황4.describe().T"
   ]
  },
  {
   "cell_type": "code",
   "execution_count": 19,
   "metadata": {},
   "outputs": [
    {
     "data": {
      "text/plain": [
       "0"
      ]
     },
     "execution_count": 19,
     "metadata": {},
     "output_type": "execute_result"
    }
   ],
   "source": [
    "경기도반려동물등록현황4.loc[:, \"시군명\"].isnull().sum()\n",
    "# NA 필드 없음"
   ]
  },
  {
   "cell_type": "code",
   "execution_count": 20,
   "metadata": {},
   "outputs": [
    {
     "data": {
      "text/plain": [
       "수원시     55\n",
       "고양시     53\n",
       "화성시     52\n",
       "안성시     46\n",
       "성남시     46\n",
       "용인시     42\n",
       "평택시     38\n",
       "파주시     35\n",
       "여주시     32\n",
       "안산시     31\n",
       "시흥시     30\n",
       "이천시     25\n",
       "부천시     25\n",
       "하남시     23\n",
       "양주시     22\n",
       "남양주시    22\n",
       "광주시     22\n",
       "포천시     18\n",
       "김포시     15\n",
       "양평군     12\n",
       "의왕시     11\n",
       "연천군     10\n",
       "과천시     10\n",
       "군포시      9\n",
       "광명시      8\n",
       "안양시      7\n",
       "구리시      7\n",
       "가평군      6\n",
       "의정부시     1\n",
       "Name: 시군명, dtype: int64"
      ]
     },
     "execution_count": 20,
     "metadata": {},
     "output_type": "execute_result"
    }
   ],
   "source": [
    "경기도반려동물등록현황4.loc[:, \"시군명\"].value_counts()"
   ]
  },
  {
   "cell_type": "code",
   "execution_count": 22,
   "metadata": {},
   "outputs": [
    {
     "data": {
      "image/png": "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\n",
      "text/plain": [
       "<Figure size 720x720 with 1 Axes>"
      ]
     },
     "metadata": {
      "needs_background": "light"
     },
     "output_type": "display_data"
    }
   ],
   "source": [
    "import matplotlib.pyplot as plt\n",
    "\n",
    "fig, ax = plt.subplots(figsize=(10, 10))\n",
    "plt.bar(경기도반려동물등록현황4.loc[:, \"시군명\"].value_counts().index, 경기도반려동물등록현황4.loc[:, \"시군명\"].value_counts())\n",
    "plt.xlabel('시군명')  # 기본 폰트 사용\n",
    "plt.ylabel('등록 수')  # 기본 폰트 사용\n",
    "plt.title('경기도 반려동물 등록 현황')  # 기본 폰트 사용\n",
    "plt.show()"
   ]
  },
  {
   "cell_type": "code",
   "execution_count": 23,
   "metadata": {},
   "outputs": [
    {
     "data": {
      "image/png": "iVBORw0KGgoAAAANSUhEUgAAAlAAAAI/CAYAAAC4QOfKAAAAOXRFWHRTb2Z0d2FyZQBNYXRwbG90bGliIHZlcnNpb24zLjcuMSwgaHR0cHM6Ly9tYXRwbG90bGliLm9yZy/bCgiHAAAACXBIWXMAAAsTAAALEwEAmpwYAAAqAUlEQVR4nO3df5TVdYE//ucbJi0zI78yhrBKaQYy4qis6FnjI3YgVM4WappNGwhq2XZSS4vvesofZ0t0T6mtntLUNO2DtZVpipThj8pyWdLRWNNVi13GWEUTNX8Cvr9/OPH1Bwjv4c6878w8Hud45t7Xfd/XfV5kDs/zer/v6xZlWQYAgE03pO4AAAD9jQIFAFCRAgUAUJECBQBQkQIFAFCRAgUAUFFLX77YdtttV44ePbovXxIAoEd++9vfPlaW5fD1PdanBWr06NFZsmRJX74kAECPFEXx3xt6zCk8AICKFCgAgIoUKACAihQoAICKFCgAgIoUKACAihQoAICKFCgAgIoUKACAihQoAICKFCgAgIoUKACAihQoAICKFCgAgIoGdIEaPXp0dt9997S3t2fChAlJktNPPz0jR45Me3t72tvbs2DBgppTAgD9TUvdAXrbLbfcku222+5VYyeddFJOPvnkmhIBAP3dgF6BAgDoDQO6QBVFkalTp2bvvffOxRdfvG78ggsuyPjx4zN79uw88cQTNSYEAPqjAV2gfvWrX+XOO+/MjTfemAsvvDC/+MUvcvzxx+ehhx5KZ2dnRowYkc997nN1xwQA+pkBXaBGjhyZJGltbc2MGTOyePHibL/99hk6dGiGDBmSY489NosXL645JQDQ3wzYAvXMM8/k6aefXnf7Zz/7Wdra2rJixYp1x1xzzTVpa2urKyIA0E8N2E/hPfLII5kxY0aSZM2aNfnoRz+aadOm5R/+4R/S2dmZoigyevToXHTRRTUnBQD6m6Isyz57sQkTJpRLlizps9cDAOipoih+W5blhPU9NmBP4QEA9JYBdwpv9NwbevS8ZfMOaXASAGCgsgIFAFCRAgUAUJECBQBQkQIFAFCRAgUAUJECBQBQkQIFAFCRAgUAUNGA20iz0UaPHp23ve1tGTp0aFpaWrJkyZJ88YtfzLXXXpshQ4aktbU1l19+eXbYYYe6owIAfcQK1Ca45ZZb0tnZmb9+j98pp5ySe+65J52dnZk+fXrOPPPMmhMCAH1JgeqBbbbZZt3tZ555JkVR1JgGAOhrTuFtRFEUmTp1aoqiyCc+8Ykcd9xxSZJTTz013/nOd/L2t789t9xyS80pAYC+ZAVqI371q1/lzjvvzI033pgLL7wwv/jFL5IkX/7yl7N8+fJ0dHTkggsuqDklANCXFKiNGDlyZJKktbU1M2bMyOLFi1/1eEdHR374wx/WEQ0AqIkC9QaeeeaZPP300+tu/+xnP0tbW1seeOCBdcdce+21GTNmTF0RAYAauAbqDTzyyCOZMWNGkmTNmjX56Ec/mmnTpuWwww7L/fffnyFDhmSnnXbKN7/5zZqTAgB9SYF6A+9+97tz9913v27cKTsAGNwUqD6yvg05TznllPzkJz/JFltskZ133jnf/va3M2zYsLqjAgAboUBtwOi5N/ToecvmHbLBx2655ZZst9126+5PmTIlZ511VlpaWvKFL3whZ511Vs4+++wevS4A0HdcRF6jqVOnpqXl5Q677777pqurq+ZEAMCmUKD6yF835Nx7771z8cUXv+7xyy67LAcddFANyQCAqpzC6yO/+tWvMnLkyDz66KOZMmVKxowZk0mTJiV5eVPOlpaWdHR01JwSANgUVqD6yIY25Lz88stz/fXX57vf/a7v1AOAfkKB6gMb2pBz4cKFOeecc3Lddddlq622qjklALCpnMLrAxvakHOXXXbJCy+8kClTpiR5+UJym3ICQPNToPrAhjbkfPDBB2tIAwBsLqfwAAAqsgLVi3q6GWfyxhtyAgD1sgIFAFCRAgUAUJECBQBQkQIFAFCRAgUAUJECBQBQkQIFAFCRAgUAUJECBQBQkQIFAFCRAgUAUJECBQBQkQIFAFCRAgUAUFHLphxUFMWyJE8nWZtkTVmWE4qi2DbJ95KMTrIsyRFlWT7ROzEBAJpHlRWoyWVZtpdlOaH7/twki8qyfE+SRd33AQAGvM05hffBJFd0374iyYc2Ow0AQD+wqQWqTPKzoih+WxTFcd1j25dluaL79v8m2b7h6QAAmtAmXQOVZP+yLB8uiqI1yU1FUdz3ygfLsiyLoijX98TuwnVckuy4446bFRYAoBls0gpUWZYPd/98NMk1SfZJ8khRFCOSpPvnoxt47sVlWU4oy3LC8OHDG5MaAKBGGy1QRVG8tSiKt/31dpKpSZYmuS7JzO7DZia5trdCAgA0k005hbd9kmuKovjr8f+3LMuFRVH8R5LvF0UxJ8l/Jzmi92ICADSPjRaosiz/kGSP9Yw/nuT9vREKAKCZ2YkcAKAiBQoAoCIFCgCgIgUKAKAiBQoAoCIFCgCgIgUKAKAiBQoAoCIFCgCgIgUKAKAiBQoAoCIFCgCgIgUKAKAiBQoAoCIFCgCgIgUKAKAiBQoAoCIFCgCgIgUKAKAiBQoAoCIFCgCgIgUKAKAiBQoAoCIFqp9Zu3Zt9txzz0yfPj1JUpZlTj311Oy6664ZO3Zsvv71r/fpPAAwGLXUHYBqzj///IwdOzZPPfVUkuTyyy/P8uXLc99992XIkCF59NFH+3QeABiMrED1I11dXbnhhhtyzDHHrBv7xje+kS996UsZMuTl/5Wtra19Ng8ADFYKVD9y4okn5pxzzllXcpLkoYceyve+971MmDAhBx10UB544IE+mwcABisFqp+4/vrr09ramr333vtV4y+88ELe/OY3Z8mSJTn22GMze/bsPpkHAAYz10D1E7fffnuuu+66LFiwIM8//3yeeuqpfOxjH8uoUaNy6KGHJklmzJiRo48+uk/mAYDBzApUP3HWWWelq6sry5Yty9VXX50DDzwwV111VT70oQ/llltuSZLcdttt2XXXXftkHgAYzKxA9XNz585NR0dHzj333Gy99da55JJLap0HAAYDBaofOuCAA3LAAQckSYYNG5Ybbrih1nkAYLBxCg8AoCIrUP3A6Lk9WxlaNu+QXpkHAAY7K1AAABUpUAAAFSlQAAAVKVAAABUpUAAAFSlQAAAVKVAAABUpUAAAFSlQAAAVKVAAABUpUAAAFSlQAAAVKVAAABUpUAAAFSlQAAAVKVAAABUpUAAAFSlQAAAVKVAAABUpUAAAFSlQAAAVKVAAABUpUAAAFSlQAAAVKVAAABUpUAAAFSlQ9NjatWuz5557Zvr06UmSjo6OvPe9701bW1tmz56d1atX15wQAHqHAkWPnX/++Rk7duy6+x0dHbnvvvvyu9/9Ls8991wuueSSGtMBQO9RoOiRrq6u3HDDDTnmmGPWjR188MEpiiJFUWSfffZJV1dXjQkBoPcoUPTIiSeemHPOOSdDhrz+r9Dq1atz5ZVXZtq0aTUkA4Dep0BR2fXXX5/W1tbsvffe6338U5/6VCZNmpT3ve99fZwMAPpGS90B6H9uv/32XHfddVmwYEGef/75PPXUU/nYxz6Wq666KmeccUZWrlyZiy66qO6YANBrrEBR2VlnnZWurq4sW7YsV199dQ488MBcddVVueSSS/LTn/408+fPX++pPQAYKPwrR8N88pOfzCOPPJL99tsv7e3tOfPMM+uOBAC9wik8NssBBxyQAw44IEmyZs2aesMAQB+xAgUAUJEVKCoZPfeGHj1v2bxDGpwEAOpjBQoAoCIFCgCgIgUKAKAiBQoAoCIFCgCgIgUKAKAiBQoAoCIFCgCgIgUKAKAiBQoAoCIFCgCgIgUKAKAiBQoAoCIFCgCgok0uUEVRDC2K4q6iKK7vvv+uoij+vSiKB4ui+F5RFFv0XkwAgOZRZQXqhCS/f8X9s5OcW5blLkmeSDKnkcEAAJrVJhWooihGJTkkySXd94skByb5QfchVyT5UC/kAwBoOpu6AnVeks8nean7/v+TZFVZlmu673clGdnYaAAAzWmjBaooiulJHi3L8rc9eYGiKI4rimJJURRLVq5c2ZMpAACayqasQP1dkr8vimJZkqvz8qm785MMK4qipfuYUUkeXt+Ty7K8uCzLCWVZThg+fHgDIgMA1GujBaosy/+3LMtRZVmOTvKRJDeXZdmR5JYkh3cfNjPJtb2WEgCgiWzOPlBfSPLZoigezMvXRF3amEgAAM2tZeOH/P/Ksrw1ya3dt/+QZJ/GRwIAaG52IgcAqEiBAgCoSIECAKhIgQIAqEiBojbPP/989tlnn+yxxx4ZN25cTjvttCTJokWLstdee6W9vT37779/HnzwwZqTAsCrKVDUZsstt8zNN9+cu+++O52dnVm4cGHuuOOOHH/88fnud7+bzs7OfPSjH80///M/1x0VAF5FgaI2RVFk6623TpKsXr06q1evTlEUKYoiTz31VJLkySefzA477FBnTAB4nUr7QEGjrV27NnvvvXcefPDB/OM//mMmTpyYSy65JAcffHDe8pa3ZJtttskdd9xRd0wAeBUrUNRq6NCh6ezsTFdXVxYvXpylS5fm3HPPzYIFC9LV1ZWjjz46n/3sZ+uOCQCvokDRFIYNG5bJkyfnxhtvzN13352JEycmSY488sj8+te/rjkdALyaAkVtVq5cmVWrViVJnnvuudx0000ZO3ZsnnzyyfzXf/1XkqwbA4Bm4hooarNixYrMnDkza9euzUsvvZQjjjgi06dPz7e+9a0cdthhGTJkSN7xjnfksssuqzsqALyKAkVtxo8fn7vuuut14zNmzMiMGTNqSAQAm8YpPACAiqxAUYvRc2/o0fOWzTukwUkAoDorUAAAFSlQAAAVKVAAABUpUAAAFSlQAAAVKVAAABUpUAAAFSlQAAAVKVAAABUpUAAAFSlQAAAVKVAAABUpUAAAFSlQAAAVKVAAABUpUAAAFSlQAAAVKVD0e88//3z22Wef7LHHHhk3blxOO+20JMmsWbPyrne9K+3t7Wlvb09nZ2e9QQEYMFrqDgCba8stt8zNN9+crbfeOqtXr87++++fgw46KEnyL//yLzn88MNrTgjAQGMFin6vKIpsvfXWSZLVq1dn9erVKYqi5lQADGQKFAPC2rVr097entbW1kyZMiUTJ05Mkpx66qkZP358TjrppLzwwgs1pwRgoFCgGBCGDh2azs7OdHV1ZfHixVm6dGnOOuus3HffffmP//iP/PnPf87ZZ59dd0wABggFigFl2LBhmTx5chYuXJgRI0akKIpsueWWOfroo7N48eK64wEwQChQ9HsrV67MqlWrkiTPPfdcbrrppowZMyYrVqxIkpRlmR//+Mdpa2urMSUAA4lP4dHvrVixIjNnzszatWvz0ksv5Ygjjsj06dNz4IEHZuXKlSnLMu3t7fnmN79Zd1QABggFin5v/Pjxueuuu143fvPNN9eQBoDBwCk8AICKrEDRb42ee0OPn7ts3iENTALAYGMFCgCgIgUKAKAiBQoAoCIFCgCgIgUKAKAiBQoAoCIFCgCgIgUKAKAiBQoAoCIFCgCgIgUKAKAiBQoAoCIFCgCgIgUKAKAiBQoAoCIFCgCgIgUKAKAiBQoAoCIFCro9//zz2WeffbLHHntk3LhxOe2005IkHR0dee9735u2trbMnj07q1evrjkpAHVToKDblltumZtvvjl33313Ojs7s3Dhwtxxxx3p6OjIfffdl9/97nd57rnncskll9QdFYCatdQdAJpFURTZeuutkySrV6/O6tWrUxRFDj744HXH7LPPPunq6qorIgBNwgoUvMLatWvT3t6e1tbWTJkyJRMnTlz32OrVq3PllVdm2rRpNSYEoBkoUPAKQ4cOTWdnZ7q6urJ48eIsXbp03WOf+tSnMmnSpLzvfe+rMSEAzUCBgvUYNmxYJk+enIULFyZJzjjjjKxcuTJf+9rXak4GQDNQoKDbypUrs2rVqiTJc889l5tuuiljxozJJZdckp/+9KeZP39+hgzxKwOAi8hhnRUrVmTmzJlZu3ZtXnrppRxxxBGZPn16WlpastNOO2W//fZLkhx66KH50pe+VHNaAOqkQEG38ePH56677nrd+Jo1a2pIA0Azcz4CGmhDm3FecMEF2WWXXVIURR577LGaUwKwuaxAMeiNnntDj563bN4hrxv762acW2+9dVavXp39998/Bx10UP7u7/4u06dPzwEHHLCZaQFoBgoUNNCGNuPcc889a04GQCM5hQcN9kabcQIwMChQ0GBvtBknAAODAgW95LWbcQIwcChQ0EAb2owTgIFFgYIGWrFiRSZPnpzx48fnb//2bzNlypRMnz49X//61zNq1Kh0dXVl/PjxOeaYY+qOCsBm8Ck8aKANbcb5mc98Jp/5zGdqSARAb7ACBU1oQxty/vGPf8zEiROzyy675Mgjj8yLL75Yc1KAwckKFDRIX2zI+bWvfS0nnXRSPvKRj+STn/xkLr300hx//PGbGx2AiqxAQRPa0IacN998cw4//PAkycyZM/PjH/+4xpQAg5cCBU3qtRty7rzzzhk2bFhaWl5eOB41alQefvjhmlMCDE4KFDSp127Ied9999UdCYBuChQ0ub9uyPmb3/wmq1atypo1a5IkXV1dGTlyZM3pAAanjRaooijeXBTF4qIo7i6K4j+Lojije/xdRVH8e1EUDxZF8b2iKLbo/bgwOKxvQ86xY8dm8uTJ+cEPfpAkueKKK/LBD36wxpQAg9emrEC9kOTAsiz3SNKeZFpRFPsmOTvJuWVZ7pLkiSRzei0lDDIb2pDz7LPPzte+9rXssssuefzxxzNnjl87gDpsdBuDsizLJH/pvvum7v/KJAcm+Wj3+BVJTk/yjcZHhMFnQxtyvvvd787ixYtrSATAK23SNVBFUQwtiqIzyaNJbkryUJJVZVmu6T6kK4mLMQCAQWGTNtIsy3JtkvaiKIYluSbJJn87alEUxyU5Lkl23HHHHkSEwaORm3EC0HsqfQqvLMtVSW5Jsl+SYUVR/LWAjUqy3g1pyrK8uCzLCWVZThg+fPjmZAUAaAqb8im84d0rTymK4i1JpiT5fV4uUod3HzYzybW9lBEAoKlsyim8EUmuKIpiaF4uXN8vy/L6oijuTXJ1URT/nOSuJJf2Yk4AgKaxKZ/CuyfJnusZ/0OSfXojFABAM7MTOQBARQoUAEBFChQAQEUKFABARQoUAEBFChQAQEUKFABARQoUAEBFChQAQEUKFABARQoUAEBFChQAQEUKFABARQoUAEBFChQAQEUKFABARQoUAEBFChQAQEUKFABARQoUAEBFChQAQEUKFABARQoUAEBFChQAQEUKFABARQoUAEBFChQAQEUKFABARQoUAEBFChQAQEUKFABARQoUAEBFChQMUMuXL8/kyZOz2267Zdy4cTn//POTJKeffnpGjhyZ9vb2tLe3Z8GCBX0yD8BA0lJ3AKB3tLS05Ktf/Wr22muvPP3009l7770zZcqUJMlJJ52Uk08+uU/nARhIFCgYoEaMGJERI0YkSd72trdl7Nixefjhh2ubB2AgcQoPBoFly5blrrvuysSJE5MkF1xwQcaPH5/Zs2fniSee6PN5APo7BQoGuL/85S857LDDct5552WbbbbJ8ccfn4ceeiidnZ0ZMWJEPve5z/XpPAADgQIFA9jq1atz2GGHpaOjI4ceemiSZPvtt8/QoUMzZMiQHHvssVm8eHGfzQMwUChQMECVZZk5c+Zk7Nix+exnP7tufMWKFetuX3PNNWlra+uTeQAGEheRwwB1++2358orr8zuu++e9vb2JMlXvvKVzJ8/P52dnSmKIqNHj85FF13UJ/MADCQKFAxQ+++/f8qyfN34wQcfXMs8AAOJU3gAABVZgYIBaPTcG3r0vGXzDumVeQAGGitQAAAVKVAAABUpUAAAFSlQAAAVKVAAABUpUAAAFSlQAAAVKVAAABUpUECfWL58eSZPnpzddtst48aNy/nnn58k+eIXv5jx48envb09U6dOzZ/+9KeakwJsnAIF9ImWlpZ89atfzb333ps77rgjF154Ye69996ccsopueeee9LZ2Znp06fnzDPPrDsqwEYpUECfGDFiRPbaa68kydve9raMHTs2Dz/8cLbZZpt1xzzzzDMpiqKuiACbzHfhAX1u2bJlueuuuzJx4sQkyamnnprvfOc7efvb355bbrml5nQAG2cFCuhTf/nLX3LYYYflvPPOW7f69OUvfznLly9PR0dHLrjggpoTAmycAgX0mdWrV+ewww5LR0dHDj300Nc93tHRkR/+8Ic1JAOoRoEC+kRZlpkzZ07Gjh2bz372s+vGH3jggXW3r7322owZM6aOeACVuAYK6BO33357rrzyyuy+++5pb29PknzlK1/JpZdemvvvvz9DhgzJTjvtlG9+85v1BgXYBAoU0Cf233//lGX5uvGDDz64hjQAm8cpPACAiqxAAb1q9NwbevS8ZfMOed3Y8uXL8/GPfzyPPPJIiqLIcccdlxNOOCGnnHJKfvKTn2SLLbbIzjvvnG9/+9sZNmzYBuduxDyNygL0T1aggH5jQ7uZT5kyJUuXLs0999yTXXfdNWeddVavz9OoLED/pEAB/caGdjOfOnVqWlpeXlDfd99909XV1evzNCoL0D8pUEC/9NrdzP/qsssuy0EHHdSn8zQqC9B/KFBAv7O+3cyTl3c0b2lpSUdHR5/N06gsQP/iInKgX9nQbuaXX355rr/++ixatGiTvpC4EfM0KgvQ/yhQQL+xod3MFy5cmHPOOSe33XZbttpqqz6Zp1FZgP5JgQL6jQ3tZv6Zz3wmL7zwQqZMmZLk5Yu332hH80bM06gsQP+kQAH9RqN2M2/EPHZWh8HNReQAABVZgQL6hUbsaN6oXdEbubs60D9ZgQIAqEiBAgCoSIECAKhIgQIAqEiBAgCoSIECAKhIgQIAqEiBAgCoSIECAKhIgQIAqEiBAgCoSIECAKhIgQIAqEiBAgCoaKMFqiiKvymK4paiKO4tiuI/i6I4oXt826IobiqK4oHun+/o/bgAAPXblBWoNUk+V5blbkn2TfKPRVHslmRukkVlWb4nyaLu+wAAA95GC1RZlivKsryz+/bTSX6fZGSSDya5ovuwK5J8qJcyAgA0lUrXQBVFMTrJnkn+Pcn2ZVmu6H7of5Ns39hoAADNaZMLVFEUWyf5YZITy7J86pWPlWVZJik38LzjiqJYUhTFkpUrV25WWACAZrBJBaooijfl5fL03bIsf9Q9/EhRFCO6Hx+R5NH1Pbcsy4vLspxQluWE4cOHNyIzAECtNuVTeEWSS5P8vizLr73ioeuSzOy+PTPJtY2PBwDQfFo24Zi/S/IPSX5XFEVn99g/JZmX5PtFUcxJ8t9JjuiVhAAATWajBaosy18lKTbw8PsbGwcAoPnZiRwAoCIFCgCgIgUKAKAiBQqgRrNnz05ra2va2trWjXV2dmbfffdNe3t7JkyYkMWLF9eYEFgfBQqgRrNmzcrChQtfNfb5z38+p512Wjo7O3PmmWfm85//fE3pgA1RoABqNGnSpGy77bavGiuKIk899fIXPjz55JPZYYcd6ogGvIFN2QcKgD503nnn5QMf+EBOPvnkvPTSS/n1r39ddyTgNaxAATSZb3zjGzn33HOzfPnynHvuuZkzZ07dkYDXUKAAmswVV1yRQw89NEny4Q9/2EXk0IQUKIAms8MOO+S2225Lktx88815z3veU3Mi4LVcAwVQo6OOOiq33nprHnvssYwaNSpnnHFGvvWtb+WEE07ImjVr8uY3vzkXX3xx3TGB11CgAGo0f/789Y7/9re/7eMkQBVO4QEAVGQFCqAmo+fe0KPnLZt3SIOTAFVZgQIAqEiBAgCoSIECAKhIgQIAqEiBAgCoSIECAKhIgQIAqEiBAgCoSIECAKhIgQIAqEiBAgCoSIECAKhIgQIAqEiBAgCoSIECAKhIgQIAqEiBAgCoSIECAKhIgQIYAGbPnp3W1ta0tbWtGzv99NMzcuTItLe3p729PQsWLKgxIQwsChTAADBr1qwsXLjwdeMnnXRSOjs709nZmYMPPriGZDAwKVAAA8CkSZOy7bbb1h0DBg0FCmAAu+CCCzJ+/PjMnj07TzzxRN1xYMBQoAAGqOOPPz4PPfRQOjs7M2LEiHzuc5+rOxIMGAoUwAC1/fbbZ+jQoRkyZEiOPfbYLF68uO5IMGAoUAAD1IoVK9bdvuaaa171CT1g87TUHQCAzXfUUUfl1ltvzWOPPZZRo0bljDPOyK233prOzs4URZHRo0fnoosuqjsmDBgKFMAAMH/+/NeNzZkzp4YkMDg4hQcAUJEVKIB+bPTcG3r0vGXzDmlwEhhcrEABAFSkQAEAVKRAAQBUpEABAFSkQAEAVKRAAQBUpEABAFSkQAEAVKRAAQBUpEABAFSkQAEAVKRAAQBUpEABAFSkQAEAVKRAAQBUpEABAFSkQAEAVKRAAbDO7Nmz09ramra2tnVjp5xySsaMGZPx48dnxowZWbVqVX0BoUkoUACsM2vWrCxcuPBVY1OmTMnSpUtzzz33ZNddd81ZZ51VUzpoHgoUAOtMmjQp22677avGpk6dmpaWliTJvvvum66urjqiQVNRoADYZJdddlkOOuigumNA7RQoADbJl7/85bS0tKSjo6PuKFC7lroDAND8Lr/88lx//fVZtGhRiqKoOw7UToEC4A0tXLgw55xzTm677bZstdVWdceBpuAUHgDrHHXUUdlvv/1y//33Z9SoUbn00kvz6U9/Ok8//XSmTJmS9vb2fPKTn6w7JtTOChQA68yfP/91Y3PmzKkhCTQ3K1AANNT6NuP8t3/7t4wbNy5DhgzJkiVLakwHjWEFCoCMnntDj563bN4hrxubNWtWPv3pT+fjH//4urG2trb86Ec/yic+8YkeZ4RmokAB0FCTJk3KsmXLXjU2duzYesJAL3EKDwCgIgUKAKAiBQoAoCIFCgCgIgUKgIZa32ac11xzTUaNGpXf/OY3OeSQQ/KBD3yg7piwWXwKD4CGWt9mnEkyY8aMPk4CvccKFABARVagAGiInm7Gmax/Q87Zs2fn+uuvT2tra5YuXZok+fOf/5wjjzwyy5Yty+jRo/P9738/73jHO95w7kbNA69kBQqApjRr1qwsXLjwVWPz5s3L+9///jzwwAN5//vfn3nz5vXZPPBKChQATWnSpEnZdtttXzV27bXXZubMmUmSmTNn5sc//nGfzQOvpEAB0G888sgjGTFiRJLkne98Zx555JFa52HwUqAA6JeKokhRFE0zD4OLAgVAv7H99ttnxYoVSZIVK1aktbW11nkYvDZaoIqiuKwoikeLolj6irFti6K4qSiKB7p/+ugCAL3u7//+73PFFVckSa644op88IMfrHUeBq9NWYG6PMm014zNTbKoLMv3JFnUfR8AGmZ9O5rPnTs3N910U97znvfk5z//eebO3fg/P42aB15po/tAlWX5i6IoRr9m+INJDui+fUWSW5N8oZHBABjcNrSj+aJFi2qZB16pp9dAbV+W5Yru2/+bZPsG5QGApnf++eenra0t48aNy3nnnVd3HGqw2TuRl2VZFkVRbujxoiiOS3Jckuy4446b+3IADHA93dH8tbuZN2qe11q6dGm+9a1vZfHixdliiy0ybdq0TJ8+PbvsskuPXo/+qacrUI8URTEiSbp/PrqhA8uyvLgsywllWU4YPnx4D18OAJrD73//+0ycODFbbbVVWlpa8n/+z//Jj370o7pj0cd6WqCuSzKz+/bMJNc2Jg4ANLe2trb88pe/zOOPP55nn302CxYsyPLly+uORR/b6Cm8oijm5+ULxrcriqIryWlJ5iX5flEUc5L8d5IjejMkADSLsWPH5gtf+EKmTp2at771rWlvb8/QoUPrjkUf25RP4R21gYfe3+AsANAvzJkzJ3PmzEmS/NM//VNGjRpVcyL62mZfRA4Ag82jjz6a1tbW/M///E9+9KMf5Y477qg7En1MgQKAig477LA8/vjjedOb3pQLL7www4YNqzsSfUyBAoCKfvnLX9YdgZr5MmEAqMG5556bcePGpa2tLUcddVSef/75uiNRgRUoANiA3tqM8+GHH87Xv/713HvvvXnLW96SI444IldffXVmzZrVo9ej71mBAoAarFmzJs8991zWrFmTZ599NjvssEPdkahAgQKAPjZy5MicfPLJ2XHHHTNixIi8/e1vz9SpU+uORQUKFAD0sSeeeCLXXntt/vjHP+ZPf/pTnnnmmVx11VV1x6ICBQoA+tjPf/7zvOtd78rw4cPzpje9KYceemh+/etf1x2LChQoAOhjO+64Y+644448++yzKcsyixYtytixY+uORQUKFAD0sYkTJ+bwww/PXnvtld133z0vvfRSjjvuuLpjUYFtDACgBmeccUbOOOOMumPQQ1agAAAqsgIFAL2stzbkvP/++3PkkUeuu/+HP/whZ555Zk488cRKr9OoeQYTBQoA+qn3vve96ezsTJKsXbs2I0eOzIwZM2qbZzBxCg8ABoBFixZl5513zk477dQU8wx0ChQADABXX311jjrqqKaZZ6BToACgn3vxxRdz3XXX5cMf/nBTzDMYKFAA0M/deOON2WuvvbL99ts3xTyDgQIFAP3c/PnzG3LarVHzDAYKFAD0Y88880xuuummHHrooU0xz2BhGwMA6Mfe+ta35vHHH2+aeQYLK1AAQEOsWrUqhx9+eMaMGZOxY8fmN7/5Td2Reo0VKADoJxqxo3lv7YqeJCeccEKmTZuWH/zgB3nxxRfz7LPP9ui1+gMFCgDYbE8++WR+8Ytf5PLLL0+SbLHFFtliiy3qDdWLnMIDADbbH//4xwwfPjxHH3109txzzxxzzDF55pln6o7VaxQoAGCzrVmzJnfeeWeOP/743HXXXXnrW9+aefPm1R2r1yhQAMBmGzVqVEaNGpWJEycmSQ4//PDceeedNafqPQoUALDZ3vnOd+Zv/uZvcv/99yd5+UuJd9ttt5pT9R4XkQMADfGv//qv6ejoyIsvvph3v/vd+fa3v113pF6jQAEADdHe3p4lS5bUHaNPOIUHAFCRFSgAoLLe3JCzP7ACBQBQkQIFAFCRAgUAUJECBQBQkQIFAFCRAgUAUJECBQBQkQIFAFCRAgUAUJECBQBQkQIFAFCRAgUAUJECBQBQkQIFAFCRAgUAUJECBQBQkQIFAFCRAgUAUJECBQBQkQIFAFCRAgUAUJECBQBQkQIFAFCRAgUAUJECBQBQkQIFAFCRAgUAUJECBQBQkQIFAFCRAgUAUJECBQBQkQIFAFCRAgUAUJECBQBQkQIFAFCRAgUAUJECBQA0jdmzZ6e1tTVtbW11R3lDChQA0DRmzZqVhQsX1h1joxQoAKBpTJo0Kdtuu23dMTZKgQIAqEiBAgCoSIECAKhIgQIAqEiBAgCaxlFHHZX99tsv999/f0aNGpVLL7207kjr1VJ3AACAv5o/f37dETaJFSgAgIqsQAEAtRg994YePW/ZvEManKQ6K1AAABUpUAAAFSlQAAAVKVAAABUpUAAAFW1WgSqKYlpRFPcXRfFgURRzGxUKAKCZ9bhAFUUxNMmFSQ5KsluSo4qi2K1RwQAAmtXmrEDtk+TBsiz/UJbli0muTvLBxsQCAGhem1OgRiZZ/or7Xd1jAAADWlGWZc+eWBSHJ5lWluUx3ff/IcnEsiw//ZrjjktyXPfd9ya5v+dxN9t2SR5rknmaKUuj5mmmLI2aR5benUeW3p2nmbI0ah5ZeneegZhlc+xUluXw9T2wOV/l8nCSv3nF/VHdY69SluXFSS7ejNdpmKIolpRlOaEZ5mmmLI2ap5myNGoeWXp3Hll6d55mytKoeWTp3XkGYpbesjmn8P4jyXuKonhXURRbJPlIkusaEwsAoHn1eAWqLMs1RVF8OslPkwxNcllZlv/ZsGQAAE1qc07hpSzLBUkWNChLX2jUqcRGzNNMWRo1TzNladQ8svTuPLL07jzNlKVR88jSu/MMxCy9oscXkQMADFa+ygUAoCIFCgCgIgUKAKCizbqIvNkURXF6kn2TrOkeaklyxwbGUnF8k48ty/L0RmRp1DzN9J6aKctAfE/NlKVJ3tOY7p/3NfD1e2PO/vrnOxD/zgzYLE3ynnrt96csy9PThwZUger2kbIsVyVJURTDkpy4gbENHduoOZptHlkGz3tqpix1v6d5SVKW5dwGvn5vzNnTORo1TzNlGYjvqZmy1P2eevP3p085hQcAUJECBQBQkQIFAFCRAgUAUJECBQBQkQIFAFDRQNvG4NEk3ymK4qXu+0OSLNzAWCqOV52jUVkG4ntqpiwD8T01U5a639O7k6QoijE9eG5fztlf/3wH4t+ZgZ6l7vfUm78/fcqXCQMAVOQUHgBARQoUAEBFChQAQEUKFABARQoUAEBF/x9lVWelsA5LQQAAAABJRU5ErkJggg==\n",
      "text/plain": [
       "<Figure size 720x720 with 1 Axes>"
      ]
     },
     "metadata": {
      "needs_background": "light"
     },
     "output_type": "display_data"
    }
   ],
   "source": [
    "# 숫자도 같이 보고싶음\n",
    "\n",
    "fig, ax = plt.subplots(figsize=(10,10))\n",
    "bars = ax.bar(경기도반려동물등록현황4.loc[:, \"시군명\"].value_counts().index, 경기도반려동물등록현황4.loc[:, \"시군명\"].value_counts())\n",
    "\n",
    "ax.bar_label(bars)\n",
    "plt.show()"
   ]
  },
  {
   "cell_type": "code",
   "execution_count": 24,
   "metadata": {},
   "outputs": [
    {
     "data": {
      "text/plain": [
       "수원시     55\n",
       "고양시     53\n",
       "화성시     52\n",
       "안성시     46\n",
       "성남시     46\n",
       "용인시     42\n",
       "평택시     38\n",
       "파주시     35\n",
       "여주시     32\n",
       "안산시     31\n",
       "시흥시     30\n",
       "이천시     25\n",
       "부천시     25\n",
       "하남시     23\n",
       "양주시     22\n",
       "남양주시    22\n",
       "광주시     22\n",
       "포천시     18\n",
       "김포시     15\n",
       "양평군     12\n",
       "의왕시     11\n",
       "연천군     10\n",
       "과천시     10\n",
       "군포시      9\n",
       "광명시      8\n",
       "안양시      7\n",
       "구리시      7\n",
       "가평군      6\n",
       "의정부시     1\n",
       "Name: 시군명, dtype: int64"
      ]
     },
     "execution_count": 24,
     "metadata": {},
     "output_type": "execute_result"
    }
   ],
   "source": [
    "경기도반려동물등록현황4.시군명.value_counts()"
   ]
  },
  {
   "cell_type": "code",
   "execution_count": 25,
   "metadata": {},
   "outputs": [
    {
     "data": {
      "image/png": "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\n",
      "text/plain": [
       "<Figure size 1440x720 with 1 Axes>"
      ]
     },
     "metadata": {
      "needs_background": "light"
     },
     "output_type": "display_data"
    }
   ],
   "source": [
    "fig, ax = plt.subplots(figsize=(20,10))\n",
    "# bars = ax.bar(electric.Make.value_counts().index, electric.Make.value_counts())\n",
    "bars = ax.bar(경기도반려동물등록현황4.시군명.value_counts()[0:10].index, 경기도반려동물등록현황4.시군명.value_counts()[0:10])\n",
    "\n",
    "ax.bar_label(bars)\n",
    "plt.show()\n",
    "\n",
   ]
  },
  {
   "cell_type": "code",
   "execution_count": 33,
   "metadata": {},
   "outputs": [
    {
     "data": {
      "text/plain": [
       "Index(['수원시', '고양시', '화성시', '안성시', '성남시'], dtype='object')"
      ]
     },
     "execution_count": 33,
     "metadata": {},
     "output_type": "execute_result"
    }
   ],
   "source": [
    "top_n = 경기도반려동물등록현황4.시군명.value_counts().index[:5]\n",
    "top_n"
   ]
  },
  {
   "cell_type": "code",
   "execution_count": 34,
   "metadata": {},
   "outputs": [
    {
     "data": {
      "text/plain": [
       "Other    461\n",
       "수원시       55\n",
       "고양시       53\n",
       "화성시       52\n",
       "성남시       46\n",
       "안성시       46\n",
       "Name: 시군명, dtype: int64"
      ]
     },
     "execution_count": 34,
     "metadata": {},
     "output_type": "execute_result"
    }
   ],
   "source": [
    "(\n",
    "    경기도반려동물등록현황4.assign(시군명=경기도반려동물등록현황4.시군명.where(경기도반려동물등록현황4.시군명.isin(top_n), 'Other'))\n",
    "    .시군명.value_counts()\n",
    ")"
   ]
  },
  {
   "cell_type": "code",
   "execution_count": 35,
   "metadata": {},
   "outputs": [
    {
     "data": {
      "text/html": [
       "<div>\n",
       "<style scoped>\n",
       "    .dataframe tbody tr th:only-of-type {\n",
       "        vertical-align: middle;\n",
       "    }\n",
       "\n",
       "    .dataframe tbody tr th {\n",
       "        vertical-align: top;\n",
       "    }\n",
       "\n",
       "    .dataframe thead th {\n",
       "        text-align: right;\n",
       "    }\n",
       "</style>\n",
       "<table border=\"1\" class=\"dataframe\">\n",
       "  <thead>\n",
       "    <tr style=\"text-align: right;\">\n",
       "      <th></th>\n",
       "      <th>시군명</th>\n",
       "      <th>읍면동명</th>\n",
       "      <th>등록동물수(마리)</th>\n",
       "      <th>(등록주체)시군구등록</th>\n",
       "      <th>(등록주체)대행업체등록</th>\n",
       "      <th>(등록주체)기타</th>\n",
       "      <th>(RFID종류)내장형</th>\n",
       "      <th>(RFID종류)외장형</th>\n",
       "      <th>(RFID종류)인식표</th>\n",
       "      <th>등록품종수</th>\n",
       "      <th>등록소유자수</th>\n",
       "      <th>동물소유자당등록동물수</th>\n",
       "      <th>해당동의등록대행업체수</th>\n",
       "      <th>데이터기준일자</th>\n",
       "      <th>시군명1</th>\n",
       "    </tr>\n",
       "  </thead>\n",
       "  <tbody>\n",
       "    <tr>\n",
       "      <th>0</th>\n",
       "      <td>가평군</td>\n",
       "      <td>가평읍</td>\n",
       "      <td>1508</td>\n",
       "      <td>NaN</td>\n",
       "      <td>NaN</td>\n",
       "      <td>NaN</td>\n",
       "      <td>984</td>\n",
       "      <td>462</td>\n",
       "      <td>62</td>\n",
       "      <td>NaN</td>\n",
       "      <td>1011</td>\n",
       "      <td>NaN</td>\n",
       "      <td>1.0</td>\n",
       "      <td>2022-12-31</td>\n",
       "      <td>Other</td>\n",
       "    </tr>\n",
       "    <tr>\n",
       "      <th>1</th>\n",
       "      <td>가평군</td>\n",
       "      <td>북면</td>\n",
       "      <td>455</td>\n",
       "      <td>NaN</td>\n",
       "      <td>NaN</td>\n",
       "      <td>NaN</td>\n",
       "      <td>288</td>\n",
       "      <td>134</td>\n",
       "      <td>33</td>\n",
       "      <td>NaN</td>\n",
       "      <td>278</td>\n",
       "      <td>NaN</td>\n",
       "      <td>0.0</td>\n",
       "      <td>2022-12-31</td>\n",
       "      <td>Other</td>\n",
       "    </tr>\n",
       "    <tr>\n",
       "      <th>2</th>\n",
       "      <td>가평군</td>\n",
       "      <td>상면</td>\n",
       "      <td>778</td>\n",
       "      <td>NaN</td>\n",
       "      <td>NaN</td>\n",
       "      <td>NaN</td>\n",
       "      <td>489</td>\n",
       "      <td>239</td>\n",
       "      <td>50</td>\n",
       "      <td>NaN</td>\n",
       "      <td>465</td>\n",
       "      <td>NaN</td>\n",
       "      <td>0.0</td>\n",
       "      <td>2022-12-31</td>\n",
       "      <td>Other</td>\n",
       "    </tr>\n",
       "    <tr>\n",
       "      <th>3</th>\n",
       "      <td>가평군</td>\n",
       "      <td>설악면</td>\n",
       "      <td>1589</td>\n",
       "      <td>NaN</td>\n",
       "      <td>NaN</td>\n",
       "      <td>NaN</td>\n",
       "      <td>746</td>\n",
       "      <td>774</td>\n",
       "      <td>69</td>\n",
       "      <td>NaN</td>\n",
       "      <td>907</td>\n",
       "      <td>NaN</td>\n",
       "      <td>1.0</td>\n",
       "      <td>2022-12-31</td>\n",
       "      <td>Other</td>\n",
       "    </tr>\n",
       "    <tr>\n",
       "      <th>4</th>\n",
       "      <td>가평군</td>\n",
       "      <td>조종면</td>\n",
       "      <td>768</td>\n",
       "      <td>NaN</td>\n",
       "      <td>NaN</td>\n",
       "      <td>NaN</td>\n",
       "      <td>480</td>\n",
       "      <td>243</td>\n",
       "      <td>45</td>\n",
       "      <td>NaN</td>\n",
       "      <td>481</td>\n",
       "      <td>NaN</td>\n",
       "      <td>1.0</td>\n",
       "      <td>2022-12-31</td>\n",
       "      <td>Other</td>\n",
       "    </tr>\n",
       "    <tr>\n",
       "      <th>...</th>\n",
       "      <td>...</td>\n",
       "      <td>...</td>\n",
       "      <td>...</td>\n",
       "      <td>...</td>\n",
       "      <td>...</td>\n",
       "      <td>...</td>\n",
       "      <td>...</td>\n",
       "      <td>...</td>\n",
       "      <td>...</td>\n",
       "      <td>...</td>\n",
       "      <td>...</td>\n",
       "      <td>...</td>\n",
       "      <td>...</td>\n",
       "      <td>...</td>\n",
       "      <td>...</td>\n",
       "    </tr>\n",
       "    <tr>\n",
       "      <th>708</th>\n",
       "      <td>화성시</td>\n",
       "      <td>청계동</td>\n",
       "      <td>2046</td>\n",
       "      <td>90.0</td>\n",
       "      <td>1956.0</td>\n",
       "      <td>0.0</td>\n",
       "      <td>1052</td>\n",
       "      <td>879</td>\n",
       "      <td>115</td>\n",
       "      <td>66.0</td>\n",
       "      <td>1679</td>\n",
       "      <td>1.22</td>\n",
       "      <td>4.0</td>\n",
       "      <td>2022-05-31</td>\n",
       "      <td>화성시</td>\n",
       "    </tr>\n",
       "    <tr>\n",
       "      <th>709</th>\n",
       "      <td>화성시</td>\n",
       "      <td>팔탄면</td>\n",
       "      <td>753</td>\n",
       "      <td>87.0</td>\n",
       "      <td>665.0</td>\n",
       "      <td>1.0</td>\n",
       "      <td>345</td>\n",
       "      <td>305</td>\n",
       "      <td>103</td>\n",
       "      <td>62.0</td>\n",
       "      <td>412</td>\n",
       "      <td>1.83</td>\n",
       "      <td>1.0</td>\n",
       "      <td>2022-05-31</td>\n",
       "      <td>화성시</td>\n",
       "    </tr>\n",
       "    <tr>\n",
       "      <th>710</th>\n",
       "      <td>화성시</td>\n",
       "      <td>향남읍</td>\n",
       "      <td>5180</td>\n",
       "      <td>314.0</td>\n",
       "      <td>4863.0</td>\n",
       "      <td>3.0</td>\n",
       "      <td>2110</td>\n",
       "      <td>2584</td>\n",
       "      <td>486</td>\n",
       "      <td>103.0</td>\n",
       "      <td>3719</td>\n",
       "      <td>1.39</td>\n",
       "      <td>6.0</td>\n",
       "      <td>2022-05-31</td>\n",
       "      <td>화성시</td>\n",
       "    </tr>\n",
       "    <tr>\n",
       "      <th>711</th>\n",
       "      <td>화성시</td>\n",
       "      <td>활초동</td>\n",
       "      <td>15</td>\n",
       "      <td>0.0</td>\n",
       "      <td>15.0</td>\n",
       "      <td>0.0</td>\n",
       "      <td>4</td>\n",
       "      <td>11</td>\n",
       "      <td>0</td>\n",
       "      <td>7.0</td>\n",
       "      <td>11</td>\n",
       "      <td>1.36</td>\n",
       "      <td>0.0</td>\n",
       "      <td>2022-05-31</td>\n",
       "      <td>화성시</td>\n",
       "    </tr>\n",
       "    <tr>\n",
       "      <th>712</th>\n",
       "      <td>화성시</td>\n",
       "      <td>황계동</td>\n",
       "      <td>52</td>\n",
       "      <td>16.0</td>\n",
       "      <td>36.0</td>\n",
       "      <td>0.0</td>\n",
       "      <td>19</td>\n",
       "      <td>13</td>\n",
       "      <td>20</td>\n",
       "      <td>15.0</td>\n",
       "      <td>24</td>\n",
       "      <td>2.17</td>\n",
       "      <td>0.0</td>\n",
       "      <td>2022-05-31</td>\n",
       "      <td>화성시</td>\n",
       "    </tr>\n",
       "  </tbody>\n",
       "</table>\n",
       "<p>713 rows × 15 columns</p>\n",
       "</div>"
      ],
      "text/plain": [
       "     시군명 읍면동명  등록동물수(마리)  (등록주체)시군구등록  (등록주체)대행업체등록  (등록주체)기타  (RFID종류)내장형  \\\n",
       "0    가평군  가평읍       1508          NaN           NaN       NaN          984   \n",
       "1    가평군   북면        455          NaN           NaN       NaN          288   \n",
       "2    가평군   상면        778          NaN           NaN       NaN          489   \n",
       "3    가평군  설악면       1589          NaN           NaN       NaN          746   \n",
       "4    가평군  조종면        768          NaN           NaN       NaN          480   \n",
       "..   ...  ...        ...          ...           ...       ...          ...   \n",
       "708  화성시  청계동       2046         90.0        1956.0       0.0         1052   \n",
       "709  화성시  팔탄면        753         87.0         665.0       1.0          345   \n",
       "710  화성시  향남읍       5180        314.0        4863.0       3.0         2110   \n",
       "711  화성시  활초동         15          0.0          15.0       0.0            4   \n",
       "712  화성시  황계동         52         16.0          36.0       0.0           19   \n",
       "\n",
       "     (RFID종류)외장형  (RFID종류)인식표  등록품종수  등록소유자수  동물소유자당등록동물수  해당동의등록대행업체수  \\\n",
       "0            462           62    NaN    1011          NaN          1.0   \n",
       "1            134           33    NaN     278          NaN          0.0   \n",
       "2            239           50    NaN     465          NaN          0.0   \n",
       "3            774           69    NaN     907          NaN          1.0   \n",
       "4            243           45    NaN     481          NaN          1.0   \n",
       "..           ...          ...    ...     ...          ...          ...   \n",
       "708          879          115   66.0    1679         1.22          4.0   \n",
       "709          305          103   62.0     412         1.83          1.0   \n",
       "710         2584          486  103.0    3719         1.39          6.0   \n",
       "711           11            0    7.0      11         1.36          0.0   \n",
       "712           13           20   15.0      24         2.17          0.0   \n",
       "\n",
       "        데이터기준일자   시군명1  \n",
       "0    2022-12-31  Other  \n",
       "1    2022-12-31  Other  \n",
       "2    2022-12-31  Other  \n",
       "3    2022-12-31  Other  \n",
       "4    2022-12-31  Other  \n",
       "..          ...    ...  \n",
       "708  2022-05-31    화성시  \n",
       "709  2022-05-31    화성시  \n",
       "710  2022-05-31    화성시  \n",
       "711  2022-05-31    화성시  \n",
       "712  2022-05-31    화성시  \n",
       "\n",
       "[713 rows x 15 columns]"
      ]
     },
     "execution_count": 35,
     "metadata": {},
     "output_type": "execute_result"
    }
   ],
   "source": [
    "경기도반려동물등록현황5 = 경기도반려동물등록현황4.assign(시군명1=경기도반려동물등록현황4.시군명.where(경기도반려동물등록현황4.시군명.isin(top_n), 'Other'))\n",
    "경기도반려동물등록현황5"
   ]
  },
  {
   "cell_type": "code",
   "execution_count": 36,
   "metadata": {},
   "outputs": [
    {
     "data": {
      "text/plain": [
       "Index(['2020-03-11', '2021-06-18', '2021-06-25', '2021-08-24', '2022-04-18',\n",
       "       '2022-04-30', '2022-05-26', '2022-05-31', '2022-06-03', '2022-07-20',\n",
       "       '2022-07-29', '2022-08-25', '2022-09-30', '2022-12-31', '2023-01-01',\n",
       "       '2023-01-31', '2023-02-01', '2023-02-02', '2023-02-03', '2023-02-08',\n",
       "       '2023-02-14', '2023-02-22', '2023-02-23', '2023-03-01', '2023-03-06',\n",
       "       '2023-03-07'],\n",
       "      dtype='object')"
      ]
     },
     "execution_count": 36,
     "metadata": {},
     "output_type": "execute_result"
    }
   ],
   "source": [
    "경기도반려동물등록현황5.loc[:, '데이터기준일자'].value_counts().index.sort_values()"
   ]
  },
  {
   "cell_type": "code",
   "execution_count": 37,
   "metadata": {},
   "outputs": [
    {
     "data": {
      "text/html": [
       "<div>\n",
       "<style scoped>\n",
       "    .dataframe tbody tr th:only-of-type {\n",
       "        vertical-align: middle;\n",
       "    }\n",
       "\n",
       "    .dataframe tbody tr th {\n",
       "        vertical-align: top;\n",
       "    }\n",
       "\n",
       "    .dataframe thead th {\n",
       "        text-align: right;\n",
       "    }\n",
       "</style>\n",
       "<table border=\"1\" class=\"dataframe\">\n",
       "  <thead>\n",
       "    <tr style=\"text-align: right;\">\n",
       "      <th></th>\n",
       "      <th>시군명</th>\n",
       "      <th>읍면동명</th>\n",
       "      <th>등록동물수(마리)</th>\n",
       "      <th>(등록주체)시군구등록</th>\n",
       "      <th>(등록주체)대행업체등록</th>\n",
       "      <th>(등록주체)기타</th>\n",
       "      <th>(RFID종류)내장형</th>\n",
       "      <th>(RFID종류)외장형</th>\n",
       "      <th>(RFID종류)인식표</th>\n",
       "      <th>등록품종수</th>\n",
       "      <th>등록소유자수</th>\n",
       "      <th>동물소유자당등록동물수</th>\n",
       "      <th>해당동의등록대행업체수</th>\n",
       "      <th>데이터기준일자</th>\n",
       "      <th>시군명1</th>\n",
       "      <th>데이터기준일자1</th>\n",
       "    </tr>\n",
       "  </thead>\n",
       "  <tbody>\n",
       "    <tr>\n",
       "      <th>0</th>\n",
       "      <td>가평군</td>\n",
       "      <td>가평읍</td>\n",
       "      <td>1508</td>\n",
       "      <td>NaN</td>\n",
       "      <td>NaN</td>\n",
       "      <td>NaN</td>\n",
       "      <td>984</td>\n",
       "      <td>462</td>\n",
       "      <td>62</td>\n",
       "      <td>NaN</td>\n",
       "      <td>1011</td>\n",
       "      <td>NaN</td>\n",
       "      <td>1.0</td>\n",
       "      <td>2022-12-31</td>\n",
       "      <td>Other</td>\n",
       "      <td>2022-12-31</td>\n",
       "    </tr>\n",
       "    <tr>\n",
       "      <th>1</th>\n",
       "      <td>가평군</td>\n",
       "      <td>북면</td>\n",
       "      <td>455</td>\n",
       "      <td>NaN</td>\n",
       "      <td>NaN</td>\n",
       "      <td>NaN</td>\n",
       "      <td>288</td>\n",
       "      <td>134</td>\n",
       "      <td>33</td>\n",
       "      <td>NaN</td>\n",
       "      <td>278</td>\n",
       "      <td>NaN</td>\n",
       "      <td>0.0</td>\n",
       "      <td>2022-12-31</td>\n",
       "      <td>Other</td>\n",
       "      <td>2022-12-31</td>\n",
       "    </tr>\n",
       "    <tr>\n",
       "      <th>2</th>\n",
       "      <td>가평군</td>\n",
       "      <td>상면</td>\n",
       "      <td>778</td>\n",
       "      <td>NaN</td>\n",
       "      <td>NaN</td>\n",
       "      <td>NaN</td>\n",
       "      <td>489</td>\n",
       "      <td>239</td>\n",
       "      <td>50</td>\n",
       "      <td>NaN</td>\n",
       "      <td>465</td>\n",
       "      <td>NaN</td>\n",
       "      <td>0.0</td>\n",
       "      <td>2022-12-31</td>\n",
       "      <td>Other</td>\n",
       "      <td>2022-12-31</td>\n",
       "    </tr>\n",
       "    <tr>\n",
       "      <th>3</th>\n",
       "      <td>가평군</td>\n",
       "      <td>설악면</td>\n",
       "      <td>1589</td>\n",
       "      <td>NaN</td>\n",
       "      <td>NaN</td>\n",
       "      <td>NaN</td>\n",
       "      <td>746</td>\n",
       "      <td>774</td>\n",
       "      <td>69</td>\n",
       "      <td>NaN</td>\n",
       "      <td>907</td>\n",
       "      <td>NaN</td>\n",
       "      <td>1.0</td>\n",
       "      <td>2022-12-31</td>\n",
       "      <td>Other</td>\n",
       "      <td>2022-12-31</td>\n",
       "    </tr>\n",
       "    <tr>\n",
       "      <th>4</th>\n",
       "      <td>가평군</td>\n",
       "      <td>조종면</td>\n",
       "      <td>768</td>\n",
       "      <td>NaN</td>\n",
       "      <td>NaN</td>\n",
       "      <td>NaN</td>\n",
       "      <td>480</td>\n",
       "      <td>243</td>\n",
       "      <td>45</td>\n",
       "      <td>NaN</td>\n",
       "      <td>481</td>\n",
       "      <td>NaN</td>\n",
       "      <td>1.0</td>\n",
       "      <td>2022-12-31</td>\n",
       "      <td>Other</td>\n",
       "      <td>2022-12-31</td>\n",
       "    </tr>\n",
       "    <tr>\n",
       "      <th>...</th>\n",
       "      <td>...</td>\n",
       "      <td>...</td>\n",
       "      <td>...</td>\n",
       "      <td>...</td>\n",
       "      <td>...</td>\n",
       "      <td>...</td>\n",
       "      <td>...</td>\n",
       "      <td>...</td>\n",
       "      <td>...</td>\n",
       "      <td>...</td>\n",
       "      <td>...</td>\n",
       "      <td>...</td>\n",
       "      <td>...</td>\n",
       "      <td>...</td>\n",
       "      <td>...</td>\n",
       "      <td>...</td>\n",
       "    </tr>\n",
       "    <tr>\n",
       "      <th>708</th>\n",
       "      <td>화성시</td>\n",
       "      <td>청계동</td>\n",
       "      <td>2046</td>\n",
       "      <td>90.0</td>\n",
       "      <td>1956.0</td>\n",
       "      <td>0.0</td>\n",
       "      <td>1052</td>\n",
       "      <td>879</td>\n",
       "      <td>115</td>\n",
       "      <td>66.0</td>\n",
       "      <td>1679</td>\n",
       "      <td>1.22</td>\n",
       "      <td>4.0</td>\n",
       "      <td>2022-05-31</td>\n",
       "      <td>화성시</td>\n",
       "      <td>2022-05-31</td>\n",
       "    </tr>\n",
       "    <tr>\n",
       "      <th>709</th>\n",
       "      <td>화성시</td>\n",
       "      <td>팔탄면</td>\n",
       "      <td>753</td>\n",
       "      <td>87.0</td>\n",
       "      <td>665.0</td>\n",
       "      <td>1.0</td>\n",
       "      <td>345</td>\n",
       "      <td>305</td>\n",
       "      <td>103</td>\n",
       "      <td>62.0</td>\n",
       "      <td>412</td>\n",
       "      <td>1.83</td>\n",
       "      <td>1.0</td>\n",
       "      <td>2022-05-31</td>\n",
       "      <td>화성시</td>\n",
       "      <td>2022-05-31</td>\n",
       "    </tr>\n",
       "    <tr>\n",
       "      <th>710</th>\n",
       "      <td>화성시</td>\n",
       "      <td>향남읍</td>\n",
       "      <td>5180</td>\n",
       "      <td>314.0</td>\n",
       "      <td>4863.0</td>\n",
       "      <td>3.0</td>\n",
       "      <td>2110</td>\n",
       "      <td>2584</td>\n",
       "      <td>486</td>\n",
       "      <td>103.0</td>\n",
       "      <td>3719</td>\n",
       "      <td>1.39</td>\n",
       "      <td>6.0</td>\n",
       "      <td>2022-05-31</td>\n",
       "      <td>화성시</td>\n",
       "      <td>2022-05-31</td>\n",
       "    </tr>\n",
       "    <tr>\n",
       "      <th>711</th>\n",
       "      <td>화성시</td>\n",
       "      <td>활초동</td>\n",
       "      <td>15</td>\n",
       "      <td>0.0</td>\n",
       "      <td>15.0</td>\n",
       "      <td>0.0</td>\n",
       "      <td>4</td>\n",
       "      <td>11</td>\n",
       "      <td>0</td>\n",
       "      <td>7.0</td>\n",
       "      <td>11</td>\n",
       "      <td>1.36</td>\n",
       "      <td>0.0</td>\n",
       "      <td>2022-05-31</td>\n",
       "      <td>화성시</td>\n",
       "      <td>2022-05-31</td>\n",
       "    </tr>\n",
       "    <tr>\n",
       "      <th>712</th>\n",
       "      <td>화성시</td>\n",
       "      <td>황계동</td>\n",
       "      <td>52</td>\n",
       "      <td>16.0</td>\n",
       "      <td>36.0</td>\n",
       "      <td>0.0</td>\n",
       "      <td>19</td>\n",
       "      <td>13</td>\n",
       "      <td>20</td>\n",
       "      <td>15.0</td>\n",
       "      <td>24</td>\n",
       "      <td>2.17</td>\n",
       "      <td>0.0</td>\n",
       "      <td>2022-05-31</td>\n",
       "      <td>화성시</td>\n",
       "      <td>2022-05-31</td>\n",
       "    </tr>\n",
       "  </tbody>\n",
       "</table>\n",
       "<p>713 rows × 16 columns</p>\n",
       "</div>"
      ],
      "text/plain": [
       "     시군명 읍면동명  등록동물수(마리)  (등록주체)시군구등록  (등록주체)대행업체등록  (등록주체)기타  (RFID종류)내장형  \\\n",
       "0    가평군  가평읍       1508          NaN           NaN       NaN          984   \n",
       "1    가평군   북면        455          NaN           NaN       NaN          288   \n",
       "2    가평군   상면        778          NaN           NaN       NaN          489   \n",
       "3    가평군  설악면       1589          NaN           NaN       NaN          746   \n",
       "4    가평군  조종면        768          NaN           NaN       NaN          480   \n",
       "..   ...  ...        ...          ...           ...       ...          ...   \n",
       "708  화성시  청계동       2046         90.0        1956.0       0.0         1052   \n",
       "709  화성시  팔탄면        753         87.0         665.0       1.0          345   \n",
       "710  화성시  향남읍       5180        314.0        4863.0       3.0         2110   \n",
       "711  화성시  활초동         15          0.0          15.0       0.0            4   \n",
       "712  화성시  황계동         52         16.0          36.0       0.0           19   \n",
       "\n",
       "     (RFID종류)외장형  (RFID종류)인식표  등록품종수  등록소유자수  동물소유자당등록동물수  해당동의등록대행업체수  \\\n",
       "0            462           62    NaN    1011          NaN          1.0   \n",
       "1            134           33    NaN     278          NaN          0.0   \n",
       "2            239           50    NaN     465          NaN          0.0   \n",
       "3            774           69    NaN     907          NaN          1.0   \n",
       "4            243           45    NaN     481          NaN          1.0   \n",
       "..           ...          ...    ...     ...          ...          ...   \n",
       "708          879          115   66.0    1679         1.22          4.0   \n",
       "709          305          103   62.0     412         1.83          1.0   \n",
       "710         2584          486  103.0    3719         1.39          6.0   \n",
       "711           11            0    7.0      11         1.36          0.0   \n",
       "712           13           20   15.0      24         2.17          0.0   \n",
       "\n",
       "        데이터기준일자   시군명1    데이터기준일자1  \n",
       "0    2022-12-31  Other  2022-12-31  \n",
       "1    2022-12-31  Other  2022-12-31  \n",
       "2    2022-12-31  Other  2022-12-31  \n",
       "3    2022-12-31  Other  2022-12-31  \n",
       "4    2022-12-31  Other  2022-12-31  \n",
       "..          ...    ...         ...  \n",
       "708  2022-05-31    화성시  2022-05-31  \n",
       "709  2022-05-31    화성시  2022-05-31  \n",
       "710  2022-05-31    화성시  2022-05-31  \n",
       "711  2022-05-31    화성시  2022-05-31  \n",
       "712  2022-05-31    화성시  2022-05-31  \n",
       "\n",
       "[713 rows x 16 columns]"
      ]
     },
     "execution_count": 37,
     "metadata": {},
     "output_type": "execute_result"
    }
   ],
   "source": [
    "year_sort = 경기도반려동물등록현황5.loc[:, '데이터기준일자'].value_counts().index.sort_values().delete([0,1,2,3,4,5,6])\n",
    "\n",
    "경기도반려동물등록현황6 = (\n",
    "    경기도반려동물등록현황5.assign(데이터기준일자1 = 경기도반려동물등록현황5.loc[:, '데이터기준일자']\n",
    "                    .where(경기도반려동물등록현황5.loc[:, '데이터기준일자'].isin(year_sort), 10))\n",
    ")\n",
    "\n",
    "경기도반려동물등록현황6"
   ]
  },
  {
   "cell_type": "markdown",
   "metadata": {},
   "source": [
    "이것으로 조사를 마치겠습니다."
   ]
  }
 ],
 "metadata": {
  "kernelspec": {
   "display_name": "Python 3",
   "language": "python",
   "name": "python3"
  },
  "language_info": {
   "codemirror_mode": {
    "name": "ipython",
    "version": 3
   },
   "file_extension": ".py",
   "mimetype": "text/x-python",
   "name": "python",
   "nbconvert_exporter": "python",
   "pygments_lexer": "ipython3",
   "version": "3.8.5"
  }
 },
 "nbformat": 4,
 "nbformat_minor": 4
}
